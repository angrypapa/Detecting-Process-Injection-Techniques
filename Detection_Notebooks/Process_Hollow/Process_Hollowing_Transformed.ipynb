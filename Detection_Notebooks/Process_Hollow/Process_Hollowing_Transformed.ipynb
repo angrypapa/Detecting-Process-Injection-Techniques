{
 "cells": [
  {
   "cell_type": "code",
   "execution_count": 10,
   "metadata": {},
   "outputs": [],
   "source": [
    "from pyspark.sql import SparkSession"
   ]
  },
  {
   "cell_type": "code",
   "execution_count": 11,
   "metadata": {},
   "outputs": [],
   "source": [
    "spark = SparkSession.builder \\\n",
    "    .appName(\"HELK JOIN\") \\\n",
    "    .master(\"spark://helk-spark-master:7077\") \\\n",
    "    .enableHiveSupport() \\\n",
    "    .getOrCreate()"
   ]
  },
  {
   "cell_type": "code",
   "execution_count": 12,
   "metadata": {},
   "outputs": [],
   "source": [
    "es_reader = (spark.read\n",
    "    .format(\"org.elasticsearch.spark.sql\")\n",
    "    .option(\"inferSchema\", \"true\")\n",
    "    .option(\"es.read.field.as.array.include\", \"tags\")\n",
    "    .option(\"es.nodes\",\"helk-elasticsearch:9200\")\n",
    "    .option(\"es.net.http.auth.user\",\"elastic\")\n",
    ")"
   ]
  },
  {
   "cell_type": "code",
   "execution_count": 13,
   "metadata": {},
   "outputs": [],
   "source": [
    "security_df = es_reader.load(\"logs-endpoint-winevent-security-*/\")"
   ]
  },
  {
   "cell_type": "code",
   "execution_count": 14,
   "metadata": {},
   "outputs": [],
   "source": [
    "security_df.createOrReplaceTempView(\"security_events\")"
   ]
  },
  {
   "cell_type": "code",
   "execution_count": 15,
   "metadata": {},
   "outputs": [],
   "source": [
    "sysmon_df = es_reader.load(\"logs-endpoint-winevent-sysmon-*/\")"
   ]
  },
  {
   "cell_type": "code",
   "execution_count": 16,
   "metadata": {},
   "outputs": [],
   "source": [
    "sysmon_df.createOrReplaceTempView(\"sysmon_events\")"
   ]
  },
  {
   "cell_type": "code",
   "execution_count": 28,
   "metadata": {},
   "outputs": [
    {
     "name": "stdout",
     "output_type": "stream",
     "text": [
      "+------------------+---------+--------------------+-------------------+--------------------+----------------------+\n",
      "|host_name         |user_name|process_parent_name |process_target_name|Sysmon_EID_1_LogonId|process_granted_access|\n",
      "+------------------+---------+--------------------+-------------------+--------------------+----------------------+\n",
      "|win10.marvel.local|thor     |processhollowing.exe|cmd.exe            |9340634             |2097151               |\n",
      "|win10.marvel.local|thor     |processhollowing.exe|svchost.exe        |9340634             |2097151               |\n",
      "+------------------+---------+--------------------+-------------------+--------------------+----------------------+\n",
      "\n"
     ]
    }
   ],
   "source": [
    "process_hollowing = spark.sql(\n",
    "'''\n",
    "SELECT \n",
    "    c.host_name, \n",
    "    c.user_name,\n",
    "    c.process_parent_name,\n",
    "    d.process_target_name,\n",
    "    c.user_logon_id AS Sysmon_EID_1_LogonId,\n",
    "    d.process_granted_access\n",
    "FROM security_events b\n",
    "JOIN sysmon_events c\n",
    "    ON c.process_name = b.process_name\n",
    "    AND c.event_id = 1\n",
    "    AND c.user_name = b.user_name\n",
    "JOIN sysmon_events d\n",
    "    ON c.process_guid = d.process_target_guid\n",
    "    AND d.event_id = 10\n",
    "    AND (d.process_granted_access & 2312) == 2312 -- 2312 = (0x908) process access rights for  PROCESS_VM_WRITE & PROCESS_VM_OPERATION & PROCESS_SUSPEND_RESUME & PROCESS_CREATE_PROCESS\n",
    "    AND c.process_parent_guid = d.process_guid\n",
    "    AND c.process_name = d.process_target_name\n",
    "JOIN sysmon_events e\n",
    "    ON e.process_guid = c.process_parent_guid\n",
    "    AND e.event_id = 5\n",
    "    AND e.process_name = d.process_name\n",
    "    AND c.process_parent_name = e.process_name \n",
    "JOIN sysmon_events f\n",
    "    ON f.process_guid = c.process_parent_guid\n",
    "    AND f.event_id = 7\n",
    "    AND f.process_path = c.process_parent_path\n",
    "    AND f.process_path = f.module_loaded\n",
    "    AND f.signed = \"false\"\n",
    "WHERE \n",
    "    b.event_id = 4688\n",
    "'''\n",
    ").show(10,False)"
   ]
  },
  {
   "cell_type": "code",
   "execution_count": null,
   "metadata": {},
   "outputs": [],
   "source": []
  }
 ],
 "metadata": {
  "kernelspec": {
   "display_name": "PySpark_Python3",
   "language": "python",
   "name": "pyspark3"
  },
  "language_info": {
   "codemirror_mode": {
    "name": "ipython",
    "version": 3
   },
   "file_extension": ".py",
   "mimetype": "text/x-python",
   "name": "python",
   "nbconvert_exporter": "python",
   "pygments_lexer": "ipython3",
   "version": "3.7.3"
  }
 },
 "nbformat": 4,
 "nbformat_minor": 4
}
