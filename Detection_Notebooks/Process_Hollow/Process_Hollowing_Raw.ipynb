{
 "cells": [
  {
   "cell_type": "code",
   "execution_count": 1,
   "metadata": {},
   "outputs": [],
   "source": [
    "from openhunt.logparser import winlogbeat\n",
    "from pyspark.sql import SparkSession\n",
    "from pyspark.sql.functions import *"
   ]
  },
  {
   "cell_type": "code",
   "execution_count": 2,
   "metadata": {},
   "outputs": [],
   "source": [
    "win = winlogbeat()\n",
    "spark = SparkSession.builder.appName(\"Process\").config(\"spark.sql.caseSensitive\", \"True\").getOrCreate()"
   ]
  },
  {
   "cell_type": "code",
   "execution_count": 3,
   "metadata": {},
   "outputs": [
    {
     "name": "stdout",
     "output_type": "stream",
     "text": [
      "[+] Processing a Spark DataFrame..\n",
      "[+] Reading Mordor file..\n",
      "[+] Processing Data from Winlogbeat version 7..\n",
      "[+] DataFrame Returned !\n"
     ]
    }
   ],
   "source": [
    "process_hollowing = win.extract_nested_fields(\"process_hollowing_2019-10-17111939.json\",spark)"
   ]
  },
  {
   "cell_type": "code",
   "execution_count": 4,
   "metadata": {},
   "outputs": [],
   "source": [
    "process_hollowing.createOrReplaceTempView(\"process_hollowing\")"
   ]
  },
  {
   "cell_type": "code",
   "execution_count": 14,
   "metadata": {},
   "outputs": [],
   "source": [
    "ProcessHollowing = spark.sql(\n",
    "'''\n",
    "SELECT \n",
    "    c.computer_name, \n",
    "    c.User,\n",
    "    c.ParentImage,\n",
    "    d.TargetImage,\n",
    "    c.LogonId,\n",
    "    ltrim('0x', d.GrantedAccess) as granted_access\n",
    "FROM process_hollowing b  \n",
    "JOIN process_hollowing c\n",
    "    ON c.Image = b.NewProcessName\n",
    "    AND c.channel = \"Microsoft-Windows-Sysmon/Operational\"\n",
    "    AND c.event_id = 1\n",
    "    AND b.SubjectUserName = (substring_index(c.User, '\\\\\\\\', -1))\n",
    "JOIN process_hollowing d\n",
    "    ON c.ProcessGuid = d.TargetProcessGUID\n",
    "    AND d.channel = \"Microsoft-Windows-Sysmon/Operational\"\n",
    "    AND d.event_id = 10\n",
    "    AND c.ParentProcessGuid = d.SourceProcessGUID\n",
    "    AND c.Image = d.TargetImage\n",
    "JOIN process_hollowing e\n",
    "    ON e.ProcessGuid = c.ParentProcessGuid\n",
    "    AND e.channel = \"Microsoft-Windows-Sysmon/Operational\"\n",
    "    AND e.event_id = 5\n",
    "    AND e.Image = d.SourceImage\n",
    "    AND c.ParentImage = e.Image\n",
    "JOIN process_hollowing f\n",
    "    ON f.ProcessGuid = c.ParentProcessGuid\n",
    "    AND f.channel = \"Microsoft-Windows-Sysmon/Operational\"\n",
    "    AND f.event_id = 7\n",
    "    AND f.Image = c.ParentImage\n",
    "    AND f.Image = f.ImageLoaded\n",
    "WHERE b.channel = \"Security\"\n",
    "    AND b.event_id = 4688\n",
    "'''\n",
    ")\n"
   ]
  },
  {
   "cell_type": "code",
   "execution_count": 15,
   "metadata": {},
   "outputs": [],
   "source": [
    "df = ProcessHollowing.select(\"computer_name\", conv(ProcessHollowing.granted_access, 16, 10).alias(\"granted_access\"), \"User\", \"ParentImage\", \"TargetImage\", \"LogonId\")"
   ]
  },
  {
   "cell_type": "code",
   "execution_count": 16,
   "metadata": {},
   "outputs": [],
   "source": [
    "df.createOrReplaceTempView(\"df\")"
   ]
  },
  {
   "cell_type": "code",
   "execution_count": 17,
   "metadata": {},
   "outputs": [
    {
     "name": "stdout",
     "output_type": "stream",
     "text": [
      "+------------------+--------------+-----------+----------------------------------------+-------------------------------+--------+\n",
      "|computer_name     |granted_access|User       |ParentImage                             |TargetImage                    |LogonId |\n",
      "+------------------+--------------+-----------+----------------------------------------+-------------------------------+--------+\n",
      "|win10.marvel.local|2097151       |MARVEL\\thor|C:\\ProcessHollowing\\ProcessHollowing.exe|C:\\Windows\\SysWOW64\\svchost.exe|0x8e86da|\n",
      "+------------------+--------------+-----------+----------------------------------------+-------------------------------+--------+\n",
      "only showing top 1 row\n",
      "\n"
     ]
    }
   ],
   "source": [
    "process_hollowing_minimal_privileges = spark.sql(\n",
    "'''\n",
    "SELECT * FROM df WHERE ((INT(granted_access) & 2312) == 2312) -- 40 is decimal for 0x0028. The minimal privileges you need to access process handle\n",
    "'''\n",
    ").show(1,False)"
   ]
  },
  {
   "cell_type": "code",
   "execution_count": null,
   "metadata": {},
   "outputs": [],
   "source": []
  }
 ],
 "metadata": {
  "kernelspec": {
   "display_name": "PySpark_Python3",
   "language": "python",
   "name": "pyspark3"
  },
  "language_info": {
   "codemirror_mode": {
    "name": "ipython",
    "version": 3
   },
   "file_extension": ".py",
   "mimetype": "text/x-python",
   "name": "python",
   "nbconvert_exporter": "python",
   "pygments_lexer": "ipython3",
   "version": "3.7.3"
  }
 },
 "nbformat": 4,
 "nbformat_minor": 4
}
