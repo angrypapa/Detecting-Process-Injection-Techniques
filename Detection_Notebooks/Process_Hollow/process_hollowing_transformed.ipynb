{
 "cells": [
  {
   "cell_type": "code",
   "execution_count": 1,
   "metadata": {},
   "outputs": [],
   "source": [
    "from pyspark.sql import SparkSession"
   ]
  },
  {
   "cell_type": "code",
   "execution_count": 2,
   "metadata": {},
   "outputs": [],
   "source": [
    "spark = SparkSession.builder \\\n",
    "    .appName(\"HELK JOIN\") \\\n",
    "    .master(\"spark://helk-spark-master:7077\") \\\n",
    "    .enableHiveSupport() \\\n",
    "    .getOrCreate()"
   ]
  },
  {
   "cell_type": "code",
   "execution_count": 3,
   "metadata": {},
   "outputs": [],
   "source": [
    "es_reader = (spark.read\n",
    "    .format(\"org.elasticsearch.spark.sql\")\n",
    "    .option(\"inferSchema\", \"true\")\n",
    "    .option(\"es.read.field.as.array.include\", \"tags\")\n",
    "    .option(\"es.nodes\",\"helk-elasticsearch:9200\")\n",
    "    .option(\"es.net.http.auth.user\",\"elastic\")\n",
    ")"
   ]
  },
  {
   "cell_type": "code",
   "execution_count": 4,
   "metadata": {},
   "outputs": [],
   "source": [
    "security_df = es_reader.load(\"logs-endpoint-winevent-security-*/\")"
   ]
  },
  {
   "cell_type": "code",
   "execution_count": 5,
   "metadata": {},
   "outputs": [],
   "source": [
    "security_df.createOrReplaceTempView(\"security_events\")"
   ]
  },
  {
   "cell_type": "code",
   "execution_count": 6,
   "metadata": {},
   "outputs": [],
   "source": [
    "sysmon_df = es_reader.load(\"logs-endpoint-winevent-sysmon-*/\")"
   ]
  },
  {
   "cell_type": "code",
   "execution_count": 7,
   "metadata": {},
   "outputs": [],
   "source": [
    "sysmon_df.createOrReplaceTempView(\"sysmon_events\")"
   ]
  },
  {
   "cell_type": "code",
   "execution_count": 29,
   "metadata": {},
   "outputs": [
    {
     "name": "stdout",
     "output_type": "stream",
     "text": [
      "+------------------+---------+--------------------+------------+------------+----------+--------------------+-------------------------------+\n",
      "|         host_name|user_name| process_parent_name|process_name|process_name|logon_type|Sysmon_EID_1_LogonId|Security_EID_4624_TargetLogonId|\n",
      "+------------------+---------+--------------------+------------+------------+----------+--------------------+-------------------------------+\n",
      "|win10.marvel.local|     thor|processhollowing.exe| svchost.exe|     cmd.exe|        11|             9340634|                         685481|\n",
      "+------------------+---------+--------------------+------------+------------+----------+--------------------+-------------------------------+\n",
      "\n"
     ]
    }
   ],
   "source": [
    "process_hollowing = spark.sql(\n",
    "'''\n",
    "SELECT \n",
    "    c.host_name, \n",
    "    c.user_name,\n",
    "    c.process_parent_name,\n",
    "    a.process_name,\n",
    "    c.process_name,\n",
    "    a.logon_type,\n",
    "    c.user_logon_id AS Sysmon_EID_1_LogonId,\n",
    "    a.user_logon_id AS Security_EID_4624_TargetLogonId\n",
    "FROM security_events a\n",
    "JOIN security_events b\n",
    "    ON a.user_logon_id = b.user_logon_id\n",
    "    AND b.event_id = 4688\n",
    "JOIN sysmon_events c\n",
    "    ON c.process_name = b.process_name\n",
    "    AND c.event_id = 1\n",
    "    AND c.user_name = b.user_name\n",
    "    AND c.user_logon_id != b.user_logon_id\n",
    "JOIN sysmon_events d\n",
    "    ON c.process_guid = d.process_target_guid\n",
    "    AND d.event_id = 10\n",
    "    AND (d.process_granted_access & 40) == 40\n",
    "    AND c.process_name = d.process_target_name\n",
    "    AND c.process_parent_guid = d.process_guid\n",
    "WHERE \n",
    "    a.event_id = 4624\n",
    "    AND a.logon_type = 11\n",
    "    AND a.src_ip_addr is not null\n",
    "'''\n",
    ").show()"
   ]
  }
 ],
 "metadata": {
  "kernelspec": {
   "display_name": "PySpark_Python3",
   "language": "python",
   "name": "pyspark3"
  },
  "language_info": {
   "codemirror_mode": {
    "name": "ipython",
    "version": 3
   },
   "file_extension": ".py",
   "mimetype": "text/x-python",
   "name": "python",
   "nbconvert_exporter": "python",
   "pygments_lexer": "ipython3",
   "version": "3.7.3"
  }
 },
 "nbformat": 4,
 "nbformat_minor": 4
}
