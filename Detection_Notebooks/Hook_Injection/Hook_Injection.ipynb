{
 "cells": [
  {
   "cell_type": "code",
   "execution_count": 1,
   "metadata": {},
   "outputs": [],
   "source": [
    "from pyspark.sql import SparkSession"
   ]
  },
  {
   "cell_type": "code",
   "execution_count": 2,
   "metadata": {},
   "outputs": [],
   "source": [
    "spark = SparkSession.builder \\\n",
    "    .appName(\"HELK Reader\") \\\n",
    "    .master(\"spark://helk-spark-master:7077\") \\\n",
    "    .enableHiveSupport() \\\n",
    "    .getOrCreate()"
   ]
  },
  {
   "cell_type": "code",
   "execution_count": 3,
   "metadata": {},
   "outputs": [],
   "source": [
    "es_reader = (spark.read\n",
    "    .format(\"org.elasticsearch.spark.sql\")\n",
    "    .option(\"inferSchema\", \"true\")\n",
    "    .option(\"es.read.field.as.array.include\", \"tags\")\n",
    "    .option(\"es.nodes\",\"helk-elasticsearch:9200\")\n",
    "    .option(\"es.net.http.auth.user\",\"elastic\")\n",
    ")"
   ]
  },
  {
   "cell_type": "code",
   "execution_count": 4,
   "metadata": {},
   "outputs": [],
   "source": [
    "sysmon_df = es_reader.load(\"logs-endpoint-winevent-sysmon-*/\")"
   ]
  },
  {
   "cell_type": "code",
   "execution_count": 5,
   "metadata": {},
   "outputs": [],
   "source": [
    "sysmon_df.createOrReplaceTempView(\"sysmon_events\")"
   ]
  },
  {
   "cell_type": "code",
   "execution_count": 32,
   "metadata": {},
   "outputs": [],
   "source": [
    "Hook_Injection = spark.sql(\n",
    "'''\n",
    "SELECT \n",
    "    b.host_name,\n",
    "    b.process_parent_name,\n",
    "    b.process_name,\n",
    "    a.process_granted_access,\n",
    "    a.user_reporter_name\n",
    "FROM sysmon_events b\n",
    "JOIN sysmon_events a\n",
    "    ON a.process_target_guid = b.process_guid\n",
    "    AND a.event_id = 10\n",
    "    AND a.process_granted_access = \"2097151\"\n",
    "    AND b.process_parent_name = a.process_name\n",
    "    AND a.process_name != b.process_name\n",
    "JOIN sysmon_events c\n",
    "    ON b.process_guid = c.process_guid\n",
    "    AND c.event_id = 13\n",
    "    AND c.process_guid = a.process_target_guid\n",
    "    AND c.process_name = a.process_target_name \n",
    "    AND (substring_index(c.registry_key_path, '\\\\\\\\', -1)) = b.process_name\n",
    "JOIN sysmon_events d\n",
    "    ON d.process_guid = a.process_target_guid\n",
    "    AND d.event_id = 7\n",
    "    AND d.module_loaded = a.process_target_path\n",
    "    AND LOWER(d.OriginalFileName) = (substring_index(c.registry_key_path, '\\\\\\\\', -1))\n",
    "    AND d.OriginalFileName = b.OriginalFileName\n",
    "WHERE\n",
    "     b.event_id = 1\n",
    "    AND b.process_integrity_level = \"High\"\n",
    "    AND b.process_name = LOWER(b.OriginalFileName)\n",
    "'''\n",
    ")"
   ]
  },
  {
   "cell_type": "code",
   "execution_count": 33,
   "metadata": {},
   "outputs": [
    {
     "data": {
      "text/plain": [
       "4"
      ]
     },
     "execution_count": 33,
     "metadata": {},
     "output_type": "execute_result"
    }
   ],
   "source": [
    "Hook_Injection.count()"
   ]
  },
  {
   "cell_type": "code",
   "execution_count": 34,
   "metadata": {
    "scrolled": true
   },
   "outputs": [
    {
     "name": "stdout",
     "output_type": "stream",
     "text": [
      "+------------------+--------------------+--------------+----------------------+------------------+\n",
      "|         host_name| process_parent_name|  process_name|process_granted_access|user_reporter_name|\n",
      "+------------------+--------------------+--------------+----------------------+------------------+\n",
      "|win10.marvel.local|      injectproc.exe|   notepad.exe|               2097151|            SYSTEM|\n",
      "|win10.marvel.local|processhollowing.exe|   svchost.exe|               2097151|            SYSTEM|\n",
      "|win10.marvel.local|      injectproc.exe|   notepad.exe|               2097151|            SYSTEM|\n",
      "|win10.marvel.local|             cmd.exe|powershell.exe|               2097151|            SYSTEM|\n",
      "+------------------+--------------------+--------------+----------------------+------------------+\n",
      "\n"
     ]
    }
   ],
   "source": [
    "Hook_Injection.show()"
   ]
  },
  {
   "cell_type": "code",
   "execution_count": 44,
   "metadata": {},
   "outputs": [
    {
     "ename": "ParseException",
     "evalue": "'\\nmismatched input \\'WHERE\\' expecting <EOF>(line 30, pos 44)\\n\\n== SQL ==\\n\\nSELECT \\n    b.host_name,\\n    b.process_parent_name, -- Might be work taking out \"svchost\" AND process_name \"rundll32.exe\". Need to see if this is a windows function somewhere\\n    b.process_name,\\n    a.process_granted_access,\\n    a.user_reporter_name\\nFROM sysmon_events b\\nJOIN sysmon_events a\\n    ON a.process_target_guid = b.process_guid\\n    AND a.event_id = 10\\n    AND a.process_granted_access = \"2097151\"\\n    AND b.process_parent_name = a.process_name\\n    AND a.process_name != b.process_name\\nJOIN sysmon_events c\\n    ON b.process_guid = c.process_guid\\n    AND c.event_id = 13\\n    AND c.process_guid = a.process_target_guid\\n    AND c.process_name = a.process_target_name \\n    AND (substring_index(c.registry_key_path, \\'\\\\\\\\\\', -1)) = b.process_name\\nJOIN sysmon_events d\\n    ON d.process_guid = a.process_target_guid\\n    AND d.event_id = 7\\n    AND d.module_loaded = a.process_target_path\\n    AND LOWER(d.OriginalFileName) = (substring_index(c.registry_key_path, \\'\\\\\\\\\\', -1))\\n    AND d.OriginalFileName = b.OriginalFileName\\nWHERE\\n     b.event_id = 1\\n    AND b.process_name = LOWER(b.OriginalFileName)\\n    AND NOT b.process_name = \"rundll32.exe\" WHERE NOT b.process_parent_name = \"svchost.exe\"\\n--------------------------------------------^^^\\n'",
     "output_type": "error",
     "traceback": [
      "\u001b[0;31m---------------------------------------------------------------------------\u001b[0m",
      "\u001b[0;31mPy4JJavaError\u001b[0m                             Traceback (most recent call last)",
      "\u001b[0;32m/opt/jupyter/spark/python/pyspark/sql/utils.py\u001b[0m in \u001b[0;36mdeco\u001b[0;34m(*a, **kw)\u001b[0m\n\u001b[1;32m     62\u001b[0m         \u001b[0;32mtry\u001b[0m\u001b[0;34m:\u001b[0m\u001b[0;34m\u001b[0m\u001b[0;34m\u001b[0m\u001b[0m\n\u001b[0;32m---> 63\u001b[0;31m             \u001b[0;32mreturn\u001b[0m \u001b[0mf\u001b[0m\u001b[0;34m(\u001b[0m\u001b[0;34m*\u001b[0m\u001b[0ma\u001b[0m\u001b[0;34m,\u001b[0m \u001b[0;34m**\u001b[0m\u001b[0mkw\u001b[0m\u001b[0;34m)\u001b[0m\u001b[0;34m\u001b[0m\u001b[0;34m\u001b[0m\u001b[0m\n\u001b[0m\u001b[1;32m     64\u001b[0m         \u001b[0;32mexcept\u001b[0m \u001b[0mpy4j\u001b[0m\u001b[0;34m.\u001b[0m\u001b[0mprotocol\u001b[0m\u001b[0;34m.\u001b[0m\u001b[0mPy4JJavaError\u001b[0m \u001b[0;32mas\u001b[0m \u001b[0me\u001b[0m\u001b[0;34m:\u001b[0m\u001b[0;34m\u001b[0m\u001b[0;34m\u001b[0m\u001b[0m\n",
      "\u001b[0;32m/opt/jupyter/spark/python/lib/py4j-0.10.7-src.zip/py4j/protocol.py\u001b[0m in \u001b[0;36mget_return_value\u001b[0;34m(answer, gateway_client, target_id, name)\u001b[0m\n\u001b[1;32m    327\u001b[0m                     \u001b[0;34m\"An error occurred while calling {0}{1}{2}.\\n\"\u001b[0m\u001b[0;34m.\u001b[0m\u001b[0;34m\u001b[0m\u001b[0;34m\u001b[0m\u001b[0m\n\u001b[0;32m--> 328\u001b[0;31m                     format(target_id, \".\", name), value)\n\u001b[0m\u001b[1;32m    329\u001b[0m             \u001b[0;32melse\u001b[0m\u001b[0;34m:\u001b[0m\u001b[0;34m\u001b[0m\u001b[0;34m\u001b[0m\u001b[0m\n",
      "\u001b[0;31mPy4JJavaError\u001b[0m: An error occurred while calling o41.sql.\n: org.apache.spark.sql.catalyst.parser.ParseException: \nmismatched input 'WHERE' expecting <EOF>(line 30, pos 44)\n\n== SQL ==\n\nSELECT \n    b.host_name,\n    b.process_parent_name, -- Might be work taking out \"svchost\" AND process_name \"rundll32.exe\". Need to see if this is a windows function somewhere\n    b.process_name,\n    a.process_granted_access,\n    a.user_reporter_name\nFROM sysmon_events b\nJOIN sysmon_events a\n    ON a.process_target_guid = b.process_guid\n    AND a.event_id = 10\n    AND a.process_granted_access = \"2097151\"\n    AND b.process_parent_name = a.process_name\n    AND a.process_name != b.process_name\nJOIN sysmon_events c\n    ON b.process_guid = c.process_guid\n    AND c.event_id = 13\n    AND c.process_guid = a.process_target_guid\n    AND c.process_name = a.process_target_name \n    AND (substring_index(c.registry_key_path, '\\\\', -1)) = b.process_name\nJOIN sysmon_events d\n    ON d.process_guid = a.process_target_guid\n    AND d.event_id = 7\n    AND d.module_loaded = a.process_target_path\n    AND LOWER(d.OriginalFileName) = (substring_index(c.registry_key_path, '\\\\', -1))\n    AND d.OriginalFileName = b.OriginalFileName\nWHERE\n     b.event_id = 1\n    AND b.process_name = LOWER(b.OriginalFileName)\n    AND NOT b.process_name = \"rundll32.exe\" WHERE NOT b.process_parent_name = \"svchost.exe\"\n--------------------------------------------^^^\n\n\tat org.apache.spark.sql.catalyst.parser.ParseException.withCommand(ParseDriver.scala:241)\n\tat org.apache.spark.sql.catalyst.parser.AbstractSqlParser.parse(ParseDriver.scala:117)\n\tat org.apache.spark.sql.execution.SparkSqlParser.parse(SparkSqlParser.scala:48)\n\tat org.apache.spark.sql.catalyst.parser.AbstractSqlParser.parsePlan(ParseDriver.scala:69)\n\tat org.apache.spark.sql.SparkSession.sql(SparkSession.scala:642)\n\tat sun.reflect.GeneratedMethodAccessor53.invoke(Unknown Source)\n\tat sun.reflect.DelegatingMethodAccessorImpl.invoke(DelegatingMethodAccessorImpl.java:43)\n\tat java.lang.reflect.Method.invoke(Method.java:498)\n\tat py4j.reflection.MethodInvoker.invoke(MethodInvoker.java:244)\n\tat py4j.reflection.ReflectionEngine.invoke(ReflectionEngine.java:357)\n\tat py4j.Gateway.invoke(Gateway.java:282)\n\tat py4j.commands.AbstractCommand.invokeMethod(AbstractCommand.java:132)\n\tat py4j.commands.CallCommand.execute(CallCommand.java:79)\n\tat py4j.GatewayConnection.run(GatewayConnection.java:238)\n\tat java.lang.Thread.run(Thread.java:748)\n",
      "\nDuring handling of the above exception, another exception occurred:\n",
      "\u001b[0;31mParseException\u001b[0m                            Traceback (most recent call last)",
      "\u001b[0;32m<ipython-input-44-a61d03ce01bb>\u001b[0m in \u001b[0;36m<module>\u001b[0;34m\u001b[0m\n\u001b[1;32m     30\u001b[0m     \u001b[0mAND\u001b[0m \u001b[0mb\u001b[0m\u001b[0;34m.\u001b[0m\u001b[0mprocess_name\u001b[0m \u001b[0;34m=\u001b[0m \u001b[0mLOWER\u001b[0m\u001b[0;34m(\u001b[0m\u001b[0mb\u001b[0m\u001b[0;34m.\u001b[0m\u001b[0mOriginalFileName\u001b[0m\u001b[0;34m)\u001b[0m\u001b[0;34m\u001b[0m\u001b[0;34m\u001b[0m\u001b[0m\n\u001b[1;32m     31\u001b[0m     \u001b[0mAND\u001b[0m \u001b[0mNOT\u001b[0m \u001b[0mb\u001b[0m\u001b[0;34m.\u001b[0m\u001b[0mprocess_name\u001b[0m \u001b[0;34m=\u001b[0m \u001b[0;34m\"rundll32.exe\"\u001b[0m \u001b[0mWHERE\u001b[0m \u001b[0mNOT\u001b[0m \u001b[0mb\u001b[0m\u001b[0;34m.\u001b[0m\u001b[0mprocess_parent_name\u001b[0m \u001b[0;34m=\u001b[0m \u001b[0;34m\"svchost.exe\"\u001b[0m\u001b[0;34m\u001b[0m\u001b[0;34m\u001b[0m\u001b[0m\n\u001b[0;32m---> 32\u001b[0;31m '''\n\u001b[0m\u001b[1;32m     33\u001b[0m ).show()\n",
      "\u001b[0;32m/opt/jupyter/spark/python/pyspark/sql/session.py\u001b[0m in \u001b[0;36msql\u001b[0;34m(self, sqlQuery)\u001b[0m\n\u001b[1;32m    765\u001b[0m         \u001b[0;34m[\u001b[0m\u001b[0mRow\u001b[0m\u001b[0;34m(\u001b[0m\u001b[0mf1\u001b[0m\u001b[0;34m=\u001b[0m\u001b[0;36m1\u001b[0m\u001b[0;34m,\u001b[0m \u001b[0mf2\u001b[0m\u001b[0;34m=\u001b[0m\u001b[0;34mu'row1'\u001b[0m\u001b[0;34m)\u001b[0m\u001b[0;34m,\u001b[0m \u001b[0mRow\u001b[0m\u001b[0;34m(\u001b[0m\u001b[0mf1\u001b[0m\u001b[0;34m=\u001b[0m\u001b[0;36m2\u001b[0m\u001b[0;34m,\u001b[0m \u001b[0mf2\u001b[0m\u001b[0;34m=\u001b[0m\u001b[0;34mu'row2'\u001b[0m\u001b[0;34m)\u001b[0m\u001b[0;34m,\u001b[0m \u001b[0mRow\u001b[0m\u001b[0;34m(\u001b[0m\u001b[0mf1\u001b[0m\u001b[0;34m=\u001b[0m\u001b[0;36m3\u001b[0m\u001b[0;34m,\u001b[0m \u001b[0mf2\u001b[0m\u001b[0;34m=\u001b[0m\u001b[0;34mu'row3'\u001b[0m\u001b[0;34m)\u001b[0m\u001b[0;34m]\u001b[0m\u001b[0;34m\u001b[0m\u001b[0;34m\u001b[0m\u001b[0m\n\u001b[1;32m    766\u001b[0m         \"\"\"\n\u001b[0;32m--> 767\u001b[0;31m         \u001b[0;32mreturn\u001b[0m \u001b[0mDataFrame\u001b[0m\u001b[0;34m(\u001b[0m\u001b[0mself\u001b[0m\u001b[0;34m.\u001b[0m\u001b[0m_jsparkSession\u001b[0m\u001b[0;34m.\u001b[0m\u001b[0msql\u001b[0m\u001b[0;34m(\u001b[0m\u001b[0msqlQuery\u001b[0m\u001b[0;34m)\u001b[0m\u001b[0;34m,\u001b[0m \u001b[0mself\u001b[0m\u001b[0;34m.\u001b[0m\u001b[0m_wrapped\u001b[0m\u001b[0;34m)\u001b[0m\u001b[0;34m\u001b[0m\u001b[0;34m\u001b[0m\u001b[0m\n\u001b[0m\u001b[1;32m    768\u001b[0m \u001b[0;34m\u001b[0m\u001b[0m\n\u001b[1;32m    769\u001b[0m     \u001b[0;34m@\u001b[0m\u001b[0msince\u001b[0m\u001b[0;34m(\u001b[0m\u001b[0;36m2.0\u001b[0m\u001b[0;34m)\u001b[0m\u001b[0;34m\u001b[0m\u001b[0;34m\u001b[0m\u001b[0m\n",
      "\u001b[0;32m/opt/jupyter/spark/python/lib/py4j-0.10.7-src.zip/py4j/java_gateway.py\u001b[0m in \u001b[0;36m__call__\u001b[0;34m(self, *args)\u001b[0m\n\u001b[1;32m   1255\u001b[0m         \u001b[0manswer\u001b[0m \u001b[0;34m=\u001b[0m \u001b[0mself\u001b[0m\u001b[0;34m.\u001b[0m\u001b[0mgateway_client\u001b[0m\u001b[0;34m.\u001b[0m\u001b[0msend_command\u001b[0m\u001b[0;34m(\u001b[0m\u001b[0mcommand\u001b[0m\u001b[0;34m)\u001b[0m\u001b[0;34m\u001b[0m\u001b[0;34m\u001b[0m\u001b[0m\n\u001b[1;32m   1256\u001b[0m         return_value = get_return_value(\n\u001b[0;32m-> 1257\u001b[0;31m             answer, self.gateway_client, self.target_id, self.name)\n\u001b[0m\u001b[1;32m   1258\u001b[0m \u001b[0;34m\u001b[0m\u001b[0m\n\u001b[1;32m   1259\u001b[0m         \u001b[0;32mfor\u001b[0m \u001b[0mtemp_arg\u001b[0m \u001b[0;32min\u001b[0m \u001b[0mtemp_args\u001b[0m\u001b[0;34m:\u001b[0m\u001b[0;34m\u001b[0m\u001b[0;34m\u001b[0m\u001b[0m\n",
      "\u001b[0;32m/opt/jupyter/spark/python/pyspark/sql/utils.py\u001b[0m in \u001b[0;36mdeco\u001b[0;34m(*a, **kw)\u001b[0m\n\u001b[1;32m     71\u001b[0m                 \u001b[0;32mraise\u001b[0m \u001b[0mAnalysisException\u001b[0m\u001b[0;34m(\u001b[0m\u001b[0ms\u001b[0m\u001b[0;34m.\u001b[0m\u001b[0msplit\u001b[0m\u001b[0;34m(\u001b[0m\u001b[0;34m': '\u001b[0m\u001b[0;34m,\u001b[0m \u001b[0;36m1\u001b[0m\u001b[0;34m)\u001b[0m\u001b[0;34m[\u001b[0m\u001b[0;36m1\u001b[0m\u001b[0;34m]\u001b[0m\u001b[0;34m,\u001b[0m \u001b[0mstackTrace\u001b[0m\u001b[0;34m)\u001b[0m\u001b[0;34m\u001b[0m\u001b[0;34m\u001b[0m\u001b[0m\n\u001b[1;32m     72\u001b[0m             \u001b[0;32mif\u001b[0m \u001b[0ms\u001b[0m\u001b[0;34m.\u001b[0m\u001b[0mstartswith\u001b[0m\u001b[0;34m(\u001b[0m\u001b[0;34m'org.apache.spark.sql.catalyst.parser.ParseException: '\u001b[0m\u001b[0;34m)\u001b[0m\u001b[0;34m:\u001b[0m\u001b[0;34m\u001b[0m\u001b[0;34m\u001b[0m\u001b[0m\n\u001b[0;32m---> 73\u001b[0;31m                 \u001b[0;32mraise\u001b[0m \u001b[0mParseException\u001b[0m\u001b[0;34m(\u001b[0m\u001b[0ms\u001b[0m\u001b[0;34m.\u001b[0m\u001b[0msplit\u001b[0m\u001b[0;34m(\u001b[0m\u001b[0;34m': '\u001b[0m\u001b[0;34m,\u001b[0m \u001b[0;36m1\u001b[0m\u001b[0;34m)\u001b[0m\u001b[0;34m[\u001b[0m\u001b[0;36m1\u001b[0m\u001b[0;34m]\u001b[0m\u001b[0;34m,\u001b[0m \u001b[0mstackTrace\u001b[0m\u001b[0;34m)\u001b[0m\u001b[0;34m\u001b[0m\u001b[0;34m\u001b[0m\u001b[0m\n\u001b[0m\u001b[1;32m     74\u001b[0m             \u001b[0;32mif\u001b[0m \u001b[0ms\u001b[0m\u001b[0;34m.\u001b[0m\u001b[0mstartswith\u001b[0m\u001b[0;34m(\u001b[0m\u001b[0;34m'org.apache.spark.sql.streaming.StreamingQueryException: '\u001b[0m\u001b[0;34m)\u001b[0m\u001b[0;34m:\u001b[0m\u001b[0;34m\u001b[0m\u001b[0;34m\u001b[0m\u001b[0m\n\u001b[1;32m     75\u001b[0m                 \u001b[0;32mraise\u001b[0m \u001b[0mStreamingQueryException\u001b[0m\u001b[0;34m(\u001b[0m\u001b[0ms\u001b[0m\u001b[0;34m.\u001b[0m\u001b[0msplit\u001b[0m\u001b[0;34m(\u001b[0m\u001b[0;34m': '\u001b[0m\u001b[0;34m,\u001b[0m \u001b[0;36m1\u001b[0m\u001b[0;34m)\u001b[0m\u001b[0;34m[\u001b[0m\u001b[0;36m1\u001b[0m\u001b[0;34m]\u001b[0m\u001b[0;34m,\u001b[0m \u001b[0mstackTrace\u001b[0m\u001b[0;34m)\u001b[0m\u001b[0;34m\u001b[0m\u001b[0;34m\u001b[0m\u001b[0m\n",
      "\u001b[0;31mParseException\u001b[0m: '\\nmismatched input \\'WHERE\\' expecting <EOF>(line 30, pos 44)\\n\\n== SQL ==\\n\\nSELECT \\n    b.host_name,\\n    b.process_parent_name, -- Might be work taking out \"svchost\" AND process_name \"rundll32.exe\". Need to see if this is a windows function somewhere\\n    b.process_name,\\n    a.process_granted_access,\\n    a.user_reporter_name\\nFROM sysmon_events b\\nJOIN sysmon_events a\\n    ON a.process_target_guid = b.process_guid\\n    AND a.event_id = 10\\n    AND a.process_granted_access = \"2097151\"\\n    AND b.process_parent_name = a.process_name\\n    AND a.process_name != b.process_name\\nJOIN sysmon_events c\\n    ON b.process_guid = c.process_guid\\n    AND c.event_id = 13\\n    AND c.process_guid = a.process_target_guid\\n    AND c.process_name = a.process_target_name \\n    AND (substring_index(c.registry_key_path, \\'\\\\\\\\\\', -1)) = b.process_name\\nJOIN sysmon_events d\\n    ON d.process_guid = a.process_target_guid\\n    AND d.event_id = 7\\n    AND d.module_loaded = a.process_target_path\\n    AND LOWER(d.OriginalFileName) = (substring_index(c.registry_key_path, \\'\\\\\\\\\\', -1))\\n    AND d.OriginalFileName = b.OriginalFileName\\nWHERE\\n     b.event_id = 1\\n    AND b.process_name = LOWER(b.OriginalFileName)\\n    AND NOT b.process_name = \"rundll32.exe\" WHERE NOT b.process_parent_name = \"svchost.exe\"\\n--------------------------------------------^^^\\n'"
     ]
    }
   ],
   "source": [
    "Hook_Injection = spark.sql(\n",
    "'''\n",
    "SELECT \n",
    "    b.host_name,\n",
    "    b.process_parent_name, -- Might be work taking out \"svchost\" AND process_name \"rundll32.exe\". Need to see if this is a windows function somewhere\n",
    "    b.process_name,\n",
    "    a.process_granted_access,\n",
    "    a.user_reporter_name\n",
    "FROM sysmon_events b\n",
    "JOIN sysmon_events a\n",
    "    ON a.process_target_guid = b.process_guid\n",
    "    AND a.event_id = 10\n",
    "    AND a.process_granted_access = \"2097151\"\n",
    "    AND b.process_parent_name = a.process_name\n",
    "    AND a.process_name != b.process_name\n",
    "JOIN sysmon_events c\n",
    "    ON b.process_guid = c.process_guid\n",
    "    AND c.event_id = 13\n",
    "    AND c.process_guid = a.process_target_guid\n",
    "    AND c.process_name = a.process_target_name \n",
    "    AND (substring_index(c.registry_key_path, '\\\\\\\\', -1)) = b.process_name\n",
    "JOIN sysmon_events d\n",
    "    ON d.process_guid = a.process_target_guid\n",
    "    AND d.event_id = 7\n",
    "    AND d.module_loaded = a.process_target_path\n",
    "    AND LOWER(d.OriginalFileName) = (substring_index(c.registry_key_path, '\\\\\\\\', -1))\n",
    "    AND d.OriginalFileName = b.OriginalFileName\n",
    "WHERE\n",
    "     b.event_id = 1\n",
    "    AND b.process_name = LOWER(b.OriginalFileName)\n",
    "    AND NOT b.process_name = \"rundll32.exe\" WHERE NOT b.process_parent_name = \"svchost.exe\"\n",
    "'''\n",
    ").show()"
   ]
  },
  {
   "cell_type": "code",
   "execution_count": 20,
   "metadata": {
    "scrolled": true
   },
   "outputs": [
    {
     "ename": "SyntaxError",
     "evalue": "invalid syntax (<ipython-input-20-29f0fe263280>, line 1)",
     "output_type": "error",
     "traceback": [
      "\u001b[0;36m  File \u001b[0;32m\"<ipython-input-20-29f0fe263280>\"\u001b[0;36m, line \u001b[0;32m1\u001b[0m\n\u001b[0;31m    AND (process_granted_access & 5184) == 5184 -- 5184 is decimal for 0x1440. The minimal privileges you need to access process handle\u001b[0m\n\u001b[0m                                                                     ^\u001b[0m\n\u001b[0;31mSyntaxError\u001b[0m\u001b[0;31m:\u001b[0m invalid syntax\n"
     ]
    }
   ],
   "source": [
    "AND (process_granted_access & 5184) == 5184 -- 5184 is decimal for 0x1440. The minimal privileges you need to access process handle\n",
    "    AND a.process_granted_access = \"2047999\""
   ]
  },
  {
   "cell_type": "code",
   "execution_count": null,
   "metadata": {},
   "outputs": [],
   "source": [
    "# https://github.com/secrary/InjectProc"
   ]
  },
  {
   "cell_type": "code",
   "execution_count": 26,
   "metadata": {},
   "outputs": [
    {
     "data": {
      "text/plain": [
       "True"
      ]
     },
     "execution_count": 26,
     "metadata": {},
     "output_type": "execute_result"
    }
   ],
   "source": [
    "2047999 & 40 == 40"
   ]
  }
 ],
 "metadata": {
  "kernelspec": {
   "display_name": "PySpark_Python3",
   "language": "python",
   "name": "pyspark3"
  },
  "language_info": {
   "codemirror_mode": {
    "name": "ipython",
    "version": 3
   },
   "file_extension": ".py",
   "mimetype": "text/x-python",
   "name": "python",
   "nbconvert_exporter": "python",
   "pygments_lexer": "ipython3",
   "version": "3.7.6"
  }
 },
 "nbformat": 4,
 "nbformat_minor": 4
}
