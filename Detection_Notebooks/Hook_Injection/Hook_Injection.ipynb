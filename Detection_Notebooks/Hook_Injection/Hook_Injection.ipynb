{
 "cells": [
  {
   "cell_type": "code",
   "execution_count": 1,
   "metadata": {},
   "outputs": [],
   "source": [
    "from pyspark.sql import SparkSession"
   ]
  },
  {
   "cell_type": "code",
   "execution_count": 2,
   "metadata": {},
   "outputs": [],
   "source": [
    "spark = SparkSession.builder \\\n",
    "    .appName(\"HELK Reader\") \\\n",
    "    .master(\"spark://helk-spark-master:7077\") \\\n",
    "    .enableHiveSupport() \\\n",
    "    .getOrCreate()"
   ]
  },
  {
   "cell_type": "code",
   "execution_count": 3,
   "metadata": {},
   "outputs": [],
   "source": [
    "es_reader = (spark.read\n",
    "    .format(\"org.elasticsearch.spark.sql\")\n",
    "    .option(\"inferSchema\", \"true\")\n",
    "    .option(\"es.read.field.as.array.include\", \"tags\")\n",
    "    .option(\"es.nodes\",\"helk-elasticsearch:9200\")\n",
    "    .option(\"es.net.http.auth.user\",\"elastic\")\n",
    ")"
   ]
  },
  {
   "cell_type": "code",
   "execution_count": 4,
   "metadata": {},
   "outputs": [],
   "source": [
    "sysmon_df = es_reader.load(\"logs-endpoint-winevent-sysmon-*/\")"
   ]
  },
  {
   "cell_type": "code",
   "execution_count": 5,
   "metadata": {},
   "outputs": [],
   "source": [
    "sysmon_df.createOrReplaceTempView(\"sysmon_events\")"
   ]
  },
  {
   "cell_type": "code",
   "execution_count": 44,
   "metadata": {},
   "outputs": [
    {
     "name": "stdout",
     "output_type": "stream",
     "text": [
      "+--------------+------------------------------------+------------------------------------+------------------------------------+------------------------------------+\n",
      "|process_name  |process_guid                        |process_guid                        |process_guid                        |process_guid                        |\n",
      "+--------------+------------------------------------+------------------------------------+------------------------------------+------------------------------------+\n",
      "|injectproc.exe|9d556bd4-1442-5e1d-0000-0010ce0ff801|9d556bd4-1442-5e1d-0000-00109812f801|9d556bd4-1442-5e1d-0000-00109812f801|9d556bd4-1442-5e1d-0000-0010ce0ff801|\n",
      "+--------------+------------------------------------+------------------------------------+------------------------------------+------------------------------------+\n",
      "\n"
     ]
    }
   ],
   "source": [
    "Hook_Injection = spark.sql(\n",
    "'''\n",
    "SELECT \n",
    "    a.process_name,\n",
    "    a.process_guid,\n",
    "    b.process_guid,\n",
    "    c.process_guid,\n",
    "    d.process_guid\n",
    "FROM sysmon_events b\n",
    "JOIN sysmon_events a\n",
    "    ON a.process_target_guid = b.process_guid\n",
    "    AND a.event_id = 10\n",
    "    AND b.process_integrity_level = \"High\"\n",
    "    AND (a.process_granted_access & 40) == 40\n",
    "    AND b.process_parent_name = a.process_name\n",
    "JOIN sysmon_events c\n",
    "    ON b.process_guid = c.process_guid\n",
    "    AND c.event_id = 7\n",
    "    AND c.module_loaded = b.process_path\n",
    "    AND c.process_guid = a.process_target_guid\n",
    "    AND c.module_loaded = a.process_target_path\n",
    "JOIN sysmon_events d\n",
    "    ON d.process_name = b.process_parent_name\n",
    "    AND d.event_id = 13\n",
    "WHERE\n",
    "     b.event_id = 1\n",
    "     AND b.process_name = \"notepad.exe\"\n",
    "'''\n",
    ").show(100,False)"
   ]
  },
  {
   "cell_type": "code",
   "execution_count": 20,
   "metadata": {},
   "outputs": [
    {
     "ename": "SyntaxError",
     "evalue": "invalid syntax (<ipython-input-20-29f0fe263280>, line 1)",
     "output_type": "error",
     "traceback": [
      "\u001b[0;36m  File \u001b[0;32m\"<ipython-input-20-29f0fe263280>\"\u001b[0;36m, line \u001b[0;32m1\u001b[0m\n\u001b[0;31m    AND (process_granted_access & 5184) == 5184 -- 5184 is decimal for 0x1440. The minimal privileges you need to access process handle\u001b[0m\n\u001b[0m                                                                     ^\u001b[0m\n\u001b[0;31mSyntaxError\u001b[0m\u001b[0;31m:\u001b[0m invalid syntax\n"
     ]
    }
   ],
   "source": [
    "AND (process_granted_access & 5184) == 5184 -- 5184 is decimal for 0x1440. The minimal privileges you need to access process handle\n",
    "    AND a.process_granted_access = \"2047999\""
   ]
  },
  {
   "cell_type": "code",
   "execution_count": 26,
   "metadata": {},
   "outputs": [
    {
     "data": {
      "text/plain": [
       "True"
      ]
     },
     "execution_count": 26,
     "metadata": {},
     "output_type": "execute_result"
    }
   ],
   "source": [
    "2047999 & 40 == 40"
   ]
  }
 ],
 "metadata": {
  "kernelspec": {
   "display_name": "PySpark_Python3",
   "language": "python",
   "name": "pyspark3"
  },
  "language_info": {
   "codemirror_mode": {
    "name": "ipython",
    "version": 3
   },
   "file_extension": ".py",
   "mimetype": "text/x-python",
   "name": "python",
   "nbconvert_exporter": "python",
   "pygments_lexer": "ipython3",
   "version": "3.7.6"
  }
 },
 "nbformat": 4,
 "nbformat_minor": 4
}
