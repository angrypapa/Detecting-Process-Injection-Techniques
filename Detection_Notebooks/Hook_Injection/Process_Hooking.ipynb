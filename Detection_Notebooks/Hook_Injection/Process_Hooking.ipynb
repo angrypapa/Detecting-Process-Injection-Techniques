{
 "cells": [
  {
   "cell_type": "code",
   "execution_count": 1,
   "metadata": {},
   "outputs": [],
   "source": [
    "from pyspark.sql import SparkSession"
   ]
  },
  {
   "cell_type": "code",
   "execution_count": 2,
   "metadata": {},
   "outputs": [],
   "source": [
    "spark = SparkSession.builder \\\n",
    "    .appName(\"HELK Reader\") \\\n",
    "    .master(\"spark://helk-spark-master:7077\") \\\n",
    "    .enableHiveSupport() \\\n",
    "    .getOrCreate()"
   ]
  },
  {
   "cell_type": "code",
   "execution_count": 3,
   "metadata": {},
   "outputs": [],
   "source": [
    "es_reader = (spark.read\n",
    "    .format(\"org.elasticsearch.spark.sql\")\n",
    "    .option(\"inferSchema\", \"true\")\n",
    "    .option(\"es.read.field.as.array.include\", \"tags\")\n",
    "    .option(\"es.nodes\",\"helk-elasticsearch:9200\")\n",
    "    .option(\"es.net.http.auth.user\",\"elastic\")\n",
    ")"
   ]
  },
  {
   "cell_type": "code",
   "execution_count": 4,
   "metadata": {},
   "outputs": [],
   "source": [
    "sysmon_df = es_reader.load(\"logs-endpoint-winevent-sysmon-*/\")"
   ]
  },
  {
   "cell_type": "code",
   "execution_count": 5,
   "metadata": {},
   "outputs": [],
   "source": [
    "sysmon_df.createOrReplaceTempView(\"sysmon_events\")"
   ]
  },
  {
   "cell_type": "code",
   "execution_count": 38,
   "metadata": {},
   "outputs": [
    {
     "name": "stdout",
     "output_type": "stream",
     "text": [
      "+-------------------+--------------+-------------------+--------------+-----------------------------------------+\n",
      "|process_parent_name|process_name  |process_target_name|process_name  |substring_index(registry_key_path, \\, -1)|\n",
      "+-------------------+--------------+-------------------+--------------+-----------------------------------------+\n",
      "|powershell.exe     |powershell.exe|injectproc.exe     |injectproc.exe|notepad.exe                              |\n",
      "|powershell.exe     |powershell.exe|injectproc.exe     |injectproc.exe|notepad.exe                              |\n",
      "|powershell.exe     |powershell.exe|injectproc.exe     |injectproc.exe|notepad.exe                              |\n",
      "|powershell.exe     |powershell.exe|injectproc.exe     |injectproc.exe|notepad.exe                              |\n",
      "|powershell.exe     |powershell.exe|injectproc.exe     |injectproc.exe|notepad.exe                              |\n",
      "|powershell.exe     |powershell.exe|injectproc.exe     |injectproc.exe|notepad.exe                              |\n",
      "|powershell.exe     |powershell.exe|injectproc.exe     |injectproc.exe|notepad.exe                              |\n",
      "|powershell.exe     |powershell.exe|injectproc.exe     |injectproc.exe|notepad.exe                              |\n",
      "|powershell.exe     |powershell.exe|injectproc.exe     |injectproc.exe|notepad.exe                              |\n",
      "|powershell.exe     |powershell.exe|injectproc.exe     |injectproc.exe|notepad.exe                              |\n",
      "|powershell.exe     |powershell.exe|injectproc.exe     |injectproc.exe|notepad.exe                              |\n",
      "|powershell.exe     |powershell.exe|injectproc.exe     |injectproc.exe|notepad.exe                              |\n",
      "|powershell.exe     |powershell.exe|injectproc.exe     |injectproc.exe|notepad.exe                              |\n",
      "|powershell.exe     |powershell.exe|injectproc.exe     |injectproc.exe|notepad.exe                              |\n",
      "|powershell.exe     |powershell.exe|injectproc.exe     |injectproc.exe|notepad.exe                              |\n",
      "|powershell.exe     |powershell.exe|injectproc.exe     |injectproc.exe|notepad.exe                              |\n",
      "|powershell.exe     |powershell.exe|injectproc.exe     |injectproc.exe|notepad.exe                              |\n",
      "|powershell.exe     |powershell.exe|injectproc.exe     |injectproc.exe|notepad.exe                              |\n",
      "|powershell.exe     |powershell.exe|injectproc.exe     |injectproc.exe|notepad.exe                              |\n",
      "|powershell.exe     |powershell.exe|injectproc.exe     |injectproc.exe|notepad.exe                              |\n",
      "|powershell.exe     |powershell.exe|injectproc.exe     |injectproc.exe|notepad.exe                              |\n",
      "|powershell.exe     |powershell.exe|injectproc.exe     |injectproc.exe|notepad.exe                              |\n",
      "|powershell.exe     |powershell.exe|injectproc.exe     |injectproc.exe|notepad.exe                              |\n",
      "|powershell.exe     |powershell.exe|injectproc.exe     |injectproc.exe|notepad.exe                              |\n",
      "|powershell.exe     |powershell.exe|injectproc.exe     |injectproc.exe|notepad.exe                              |\n",
      "|powershell.exe     |powershell.exe|injectproc.exe     |injectproc.exe|notepad.exe                              |\n",
      "|powershell.exe     |powershell.exe|injectproc.exe     |injectproc.exe|notepad.exe                              |\n",
      "|powershell.exe     |powershell.exe|injectproc.exe     |injectproc.exe|notepad.exe                              |\n",
      "|powershell.exe     |powershell.exe|injectproc.exe     |injectproc.exe|notepad.exe                              |\n",
      "|powershell.exe     |powershell.exe|injectproc.exe     |injectproc.exe|notepad.exe                              |\n",
      "|powershell.exe     |powershell.exe|injectproc.exe     |injectproc.exe|notepad.exe                              |\n",
      "|powershell.exe     |powershell.exe|injectproc.exe     |injectproc.exe|notepad.exe                              |\n",
      "|powershell.exe     |powershell.exe|injectproc.exe     |injectproc.exe|notepad.exe                              |\n",
      "|powershell.exe     |powershell.exe|injectproc.exe     |injectproc.exe|notepad.exe                              |\n",
      "|powershell.exe     |powershell.exe|injectproc.exe     |injectproc.exe|notepad.exe                              |\n",
      "|cmd.exe            |cmd.exe       |cmd.exe            |cmd.exe       |cmd.exe                                  |\n",
      "|cmd.exe            |cmd.exe       |cmd.exe            |cmd.exe       |cmd.exe                                  |\n",
      "|cmd.exe            |cmd.exe       |cmd.exe            |cmd.exe       |cmd.exe                                  |\n",
      "|cmd.exe            |cmd.exe       |cmd.exe            |cmd.exe       |cmd.exe                                  |\n",
      "|cmd.exe            |cmd.exe       |cmd.exe            |cmd.exe       |cmd.exe                                  |\n",
      "|cmd.exe            |cmd.exe       |cmd.exe            |cmd.exe       |cmd.exe                                  |\n",
      "|cmd.exe            |cmd.exe       |cmd.exe            |cmd.exe       |cmd.exe                                  |\n",
      "|cmd.exe            |cmd.exe       |cmd.exe            |cmd.exe       |cmd.exe                                  |\n",
      "|cmd.exe            |cmd.exe       |cmd.exe            |cmd.exe       |cmd.exe                                  |\n",
      "|cmd.exe            |cmd.exe       |powershell.exe     |powershell.exe|LanguageList                             |\n",
      "|cmd.exe            |cmd.exe       |powershell.exe     |powershell.exe|LanguageList                             |\n",
      "|cmd.exe            |cmd.exe       |powershell.exe     |powershell.exe|LanguageList                             |\n",
      "|cmd.exe            |cmd.exe       |powershell.exe     |powershell.exe|LanguageList                             |\n",
      "|cmd.exe            |cmd.exe       |powershell.exe     |powershell.exe|LanguageList                             |\n",
      "|cmd.exe            |cmd.exe       |powershell.exe     |powershell.exe|LanguageList                             |\n",
      "|cmd.exe            |cmd.exe       |powershell.exe     |powershell.exe|LanguageList                             |\n",
      "|cmd.exe            |cmd.exe       |powershell.exe     |powershell.exe|LanguageList                             |\n",
      "|cmd.exe            |cmd.exe       |powershell.exe     |powershell.exe|LanguageList                             |\n",
      "|cmd.exe            |cmd.exe       |powershell.exe     |powershell.exe|LanguageList                             |\n",
      "|cmd.exe            |cmd.exe       |powershell.exe     |powershell.exe|LanguageList                             |\n",
      "|cmd.exe            |cmd.exe       |powershell.exe     |powershell.exe|LanguageList                             |\n",
      "|cmd.exe            |cmd.exe       |powershell.exe     |powershell.exe|LanguageList                             |\n",
      "|cmd.exe            |cmd.exe       |powershell.exe     |powershell.exe|LanguageList                             |\n",
      "|cmd.exe            |cmd.exe       |powershell.exe     |powershell.exe|LanguageList                             |\n",
      "|cmd.exe            |cmd.exe       |powershell.exe     |powershell.exe|LanguageList                             |\n",
      "|cmd.exe            |cmd.exe       |powershell.exe     |powershell.exe|LanguageList                             |\n",
      "|cmd.exe            |cmd.exe       |powershell.exe     |powershell.exe|LanguageList                             |\n",
      "|cmd.exe            |cmd.exe       |powershell.exe     |powershell.exe|LanguageList                             |\n",
      "|cmd.exe            |cmd.exe       |powershell.exe     |powershell.exe|LanguageList                             |\n",
      "|cmd.exe            |cmd.exe       |powershell.exe     |powershell.exe|LanguageList                             |\n",
      "|cmd.exe            |cmd.exe       |powershell.exe     |powershell.exe|LanguageList                             |\n",
      "|cmd.exe            |cmd.exe       |powershell.exe     |powershell.exe|LanguageList                             |\n",
      "|cmd.exe            |cmd.exe       |powershell.exe     |powershell.exe|LanguageList                             |\n",
      "|cmd.exe            |cmd.exe       |powershell.exe     |powershell.exe|LanguageList                             |\n",
      "|cmd.exe            |cmd.exe       |powershell.exe     |powershell.exe|LanguageList                             |\n",
      "|cmd.exe            |cmd.exe       |powershell.exe     |powershell.exe|LanguageList                             |\n",
      "|cmd.exe            |cmd.exe       |powershell.exe     |powershell.exe|LanguageList                             |\n",
      "|cmd.exe            |cmd.exe       |powershell.exe     |powershell.exe|LanguageList                             |\n",
      "|cmd.exe            |cmd.exe       |powershell.exe     |powershell.exe|LanguageList                             |\n",
      "|cmd.exe            |cmd.exe       |powershell.exe     |powershell.exe|LanguageList                             |\n",
      "|cmd.exe            |cmd.exe       |powershell.exe     |powershell.exe|LanguageList                             |\n",
      "|cmd.exe            |cmd.exe       |powershell.exe     |powershell.exe|LanguageList                             |\n",
      "|cmd.exe            |cmd.exe       |powershell.exe     |powershell.exe|LanguageList                             |\n",
      "|cmd.exe            |cmd.exe       |powershell.exe     |powershell.exe|LanguageList                             |\n",
      "|cmd.exe            |cmd.exe       |powershell.exe     |powershell.exe|LanguageList                             |\n",
      "|cmd.exe            |cmd.exe       |powershell.exe     |powershell.exe|LanguageList                             |\n",
      "|cmd.exe            |cmd.exe       |powershell.exe     |powershell.exe|LanguageList                             |\n",
      "|cmd.exe            |cmd.exe       |powershell.exe     |powershell.exe|LanguageList                             |\n",
      "|cmd.exe            |cmd.exe       |powershell.exe     |powershell.exe|LanguageList                             |\n",
      "|cmd.exe            |cmd.exe       |powershell.exe     |powershell.exe|LanguageList                             |\n",
      "|cmd.exe            |cmd.exe       |powershell.exe     |powershell.exe|LanguageList                             |\n",
      "|cmd.exe            |cmd.exe       |powershell.exe     |powershell.exe|LanguageList                             |\n",
      "|cmd.exe            |cmd.exe       |powershell.exe     |powershell.exe|LanguageList                             |\n",
      "|cmd.exe            |cmd.exe       |powershell.exe     |powershell.exe|LanguageList                             |\n",
      "|cmd.exe            |cmd.exe       |powershell.exe     |powershell.exe|LanguageList                             |\n",
      "|cmd.exe            |cmd.exe       |powershell.exe     |powershell.exe|LanguageList                             |\n",
      "|cmd.exe            |cmd.exe       |powershell.exe     |powershell.exe|LanguageList                             |\n",
      "|cmd.exe            |cmd.exe       |powershell.exe     |powershell.exe|LanguageList                             |\n",
      "|cmd.exe            |cmd.exe       |powershell.exe     |powershell.exe|LanguageList                             |\n",
      "|cmd.exe            |cmd.exe       |powershell.exe     |powershell.exe|LanguageList                             |\n",
      "|cmd.exe            |cmd.exe       |powershell.exe     |powershell.exe|LanguageList                             |\n",
      "|cmd.exe            |cmd.exe       |powershell.exe     |powershell.exe|LanguageList                             |\n",
      "|cmd.exe            |cmd.exe       |powershell.exe     |powershell.exe|LanguageList                             |\n",
      "|cmd.exe            |cmd.exe       |powershell.exe     |powershell.exe|LanguageList                             |\n",
      "|cmd.exe            |cmd.exe       |powershell.exe     |powershell.exe|LanguageList                             |\n",
      "+-------------------+--------------+-------------------+--------------+-----------------------------------------+\n",
      "only showing top 100 rows\n",
      "\n"
     ]
    }
   ],
   "source": [
    "Hook_Injection = spark.sql(\n",
    "'''\n",
    "SELECT \n",
    "    b.process_parent_name,\n",
    "    a.process_name,\n",
    "    a.process_target_name,\n",
    "    c.process_name,\n",
    "    (substring_index(c.registry_key_path, '\\\\\\\\', -1))\n",
    "FROM sysmon_events b\n",
    "JOIN sysmon_events a\n",
    "    ON a.process_target_guid = b.process_guid\n",
    "    AND a.event_id = 10\n",
    "    AND (a.process_granted_access & 40) == 40\n",
    "    AND b.process_parent_name = a.process_name\n",
    "JOIN sysmon_events c\n",
    "    ON b.process_guid = c.process_guid\n",
    "    AND c.event_id = 13\n",
    "    AND c.process_guid = a.process_target_guid\n",
    "    AND c.process_name = a.process_target_name \n",
    "JOIN sysmon_events d\n",
    "    ON d.process_guid = a.process_target_guid\n",
    "    AND d.event_id = 7\n",
    "WHERE\n",
    "     b.event_id = 1\n",
    "    AND b.process_integrity_level = \"High\"\n",
    "    AND NOT b.process_name = \"svchost.exe\"\n",
    "'''\n",
    ").show(100,False)"
   ]
  },
  {
   "cell_type": "code",
   "execution_count": 20,
   "metadata": {
    "scrolled": true
   },
   "outputs": [
    {
     "ename": "SyntaxError",
     "evalue": "invalid syntax (<ipython-input-20-29f0fe263280>, line 1)",
     "output_type": "error",
     "traceback": [
      "\u001b[0;36m  File \u001b[0;32m\"<ipython-input-20-29f0fe263280>\"\u001b[0;36m, line \u001b[0;32m1\u001b[0m\n\u001b[0;31m    AND (process_granted_access & 5184) == 5184 -- 5184 is decimal for 0x1440. The minimal privileges you need to access process handle\u001b[0m\n\u001b[0m                                                                     ^\u001b[0m\n\u001b[0;31mSyntaxError\u001b[0m\u001b[0;31m:\u001b[0m invalid syntax\n"
     ]
    }
   ],
   "source": [
    "AND (process_granted_access & 5184) == 5184 -- 5184 is decimal for 0x1440. The minimal privileges you need to access process handle\n",
    "    AND a.process_granted_access = \"2047999\""
   ]
  },
  {
   "cell_type": "code",
   "execution_count": null,
   "metadata": {},
   "outputs": [],
   "source": [
    "# https://github.com/secrary/InjectProc"
   ]
  },
  {
   "cell_type": "code",
   "execution_count": 26,
   "metadata": {},
   "outputs": [
    {
     "data": {
      "text/plain": [
       "True"
      ]
     },
     "execution_count": 26,
     "metadata": {},
     "output_type": "execute_result"
    }
   ],
   "source": [
    "2047999 & 40 == 40"
   ]
  }
 ],
 "metadata": {
  "kernelspec": {
   "display_name": "PySpark_Python3",
   "language": "python",
   "name": "pyspark3"
  },
  "language_info": {
   "codemirror_mode": {
    "name": "ipython",
    "version": 3
   },
   "file_extension": ".py",
   "mimetype": "text/x-python",
   "name": "python",
   "nbconvert_exporter": "python",
   "pygments_lexer": "ipython3",
   "version": "3.7.6"
  }
 },
 "nbformat": 4,
 "nbformat_minor": 4
}
