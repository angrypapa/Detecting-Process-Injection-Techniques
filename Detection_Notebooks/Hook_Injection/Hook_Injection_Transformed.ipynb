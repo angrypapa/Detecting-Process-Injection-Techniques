{
 "cells": [
  {
   "cell_type": "code",
   "execution_count": 29,
   "metadata": {},
   "outputs": [],
   "source": [
    "from pyspark.sql import SparkSession"
   ]
  },
  {
   "cell_type": "code",
   "execution_count": 30,
   "metadata": {},
   "outputs": [],
   "source": [
    "spark = SparkSession.builder \\\n",
    "    .appName(\"HELK Reader\") \\\n",
    "    .master(\"spark://helk-spark-master:7077\") \\\n",
    "    .enableHiveSupport() \\\n",
    "    .getOrCreate()"
   ]
  },
  {
   "cell_type": "code",
   "execution_count": 31,
   "metadata": {},
   "outputs": [],
   "source": [
    "es_reader = (spark.read\n",
    "    .format(\"org.elasticsearch.spark.sql\")\n",
    "    .option(\"inferSchema\", \"true\")\n",
    "    .option(\"es.read.field.as.array.include\", \"tags\")\n",
    "    .option(\"es.nodes\",\"helk-elasticsearch:9200\")\n",
    "    .option(\"es.net.http.auth.user\",\"elastic\")\n",
    ")"
   ]
  },
  {
   "cell_type": "code",
   "execution_count": 32,
   "metadata": {},
   "outputs": [],
   "source": [
    "security_df = es_reader.load(\"logs-endpoint-winevent-security-*/\")"
   ]
  },
  {
   "cell_type": "code",
   "execution_count": 33,
   "metadata": {},
   "outputs": [],
   "source": [
    "security_df.createOrReplaceTempView(\"security_events\")"
   ]
  },
  {
   "cell_type": "code",
   "execution_count": 34,
   "metadata": {},
   "outputs": [],
   "source": [
    "sysmon_df = es_reader.load(\"logs-endpoint-winevent-sysmon-*/\")"
   ]
  },
  {
   "cell_type": "code",
   "execution_count": 35,
   "metadata": {},
   "outputs": [],
   "source": [
    "sysmon_df.createOrReplaceTempView(\"sysmon_events\")"
   ]
  },
  {
   "cell_type": "code",
   "execution_count": 43,
   "metadata": {},
   "outputs": [
    {
     "name": "stdout",
     "output_type": "stream",
     "text": [
      "+------------------+---------+--------------------+-------------------+--------------------+----------------------+\n",
      "|host_name         |user_name|process_parent_name |process_target_name|Sysmon_EID_1_LogonId|process_granted_access|\n",
      "+------------------+---------+--------------------+-------------------+--------------------+----------------------+\n",
      "|win10.marvel.local|thor     |processhollowing.exe|cmd.exe            |9340634             |2097151               |\n",
      "|win10.marvel.local|thor     |processhollowing.exe|svchost.exe        |9340634             |2097151               |\n",
      "|win10.marvel.local|thor     |injectproc.exe      |cmd.exe            |537356              |2097151               |\n",
      "+------------------+---------+--------------------+-------------------+--------------------+----------------------+\n",
      "\n"
     ]
    }
   ],
   "source": [
    "hook_and_hollowing = spark.sql(\n",
    "'''\n",
    "SELECT \n",
    "    c.host_name, \n",
    "    c.user_name,\n",
    "    c.process_parent_name,\n",
    "    d.process_target_name,\n",
    "    c.user_logon_id AS Sysmon_EID_1_LogonId,\n",
    "    d.process_granted_access\n",
    "FROM security_events b\n",
    "JOIN sysmon_events c\n",
    "    ON c.process_name = b.process_name\n",
    "    AND c.event_id = 1\n",
    "    AND c.user_name = b.user_name\n",
    "JOIN sysmon_events d\n",
    "    ON c.process_guid = d.process_target_guid\n",
    "    AND d.event_id = 10\n",
    "    AND d.process_granted_access = \"2097151\" -- Assuming they are asking for full privileges. Was hard to narrow down the minimum rights needed to perform.\n",
    "    AND c.process_parent_guid = d.process_guid\n",
    "    AND c.process_name = d.process_target_name\n",
    "    AND (NOT (c.process_parent_name = \"msbuild.exe\" AND d.process_target_name = \"cmd.exe\")) -- Blind spot + Assumption\n",
    "JOIN sysmon_events e\n",
    "    ON e.process_guid = c.process_parent_guid\n",
    "    AND e.event_id = 5\n",
    "    AND e.process_name = d.process_name\n",
    "    AND c.process_parent_name = e.process_name \n",
    "JOIN sysmon_events f\n",
    "    ON f.process_guid = c.process_parent_guid\n",
    "    AND f.event_id = 7\n",
    "    AND f.process_path = c.process_parent_path\n",
    "    AND f.process_path = f.module_loaded\n",
    "     AND f.signed = \"false\" -- Trivial for adversary to bypass. Here for extra context. \n",
    "WHERE \n",
    "    b.event_id = 4688\n",
    "'''\n",
    ").show(10,False)"
   ]
  },
  {
   "cell_type": "code",
   "execution_count": 44,
   "metadata": {},
   "outputs": [
    {
     "name": "stdout",
     "output_type": "stream",
     "text": [
      "+------------------+--------------------+-------------------+----------------------+------------------+\n",
      "|         host_name| process_parent_name|process_target_name|process_granted_access|user_reporter_name|\n",
      "+------------------+--------------------+-------------------+----------------------+------------------+\n",
      "|win10.marvel.local|      injectproc.exe|            cmd.exe|               2097151|            SYSTEM|\n",
      "|win10.marvel.local|      injectproc.exe|        notepad.exe|               2097151|            SYSTEM|\n",
      "|win10.marvel.local|processhollowing.exe|        svchost.exe|               2097151|            SYSTEM|\n",
      "|win10.marvel.local|      injectproc.exe|        notepad.exe|               2097151|            SYSTEM|\n",
      "|win10.marvel.local|             cmd.exe|     powershell.exe|               2097151|            SYSTEM|\n",
      "|win10.marvel.local|             cmd.exe|     powershell.exe|               2097151|            SYSTEM|\n",
      "+------------------+--------------------+-------------------+----------------------+------------------+\n",
      "\n"
     ]
    }
   ],
   "source": [
    "Hook_Injection = spark.sql(\n",
    "'''\n",
    "SELECT \n",
    "    b.host_name,\n",
    "    b.process_parent_name,\n",
    "    a.process_target_name,\n",
    "    a.process_granted_access,\n",
    "    a.user_reporter_name\n",
    "FROM sysmon_events b\n",
    "JOIN sysmon_events a\n",
    "    ON a.process_target_guid = b.process_guid\n",
    "    AND a.event_id = 10\n",
    "    AND a.process_granted_access = \"2097151\" -- Assuming they are asking for full privileges. Was hard to narrow down the minimum rights needed to perform. API's were not specefic. \n",
    "    AND b.process_parent_name = a.process_name\n",
    "    AND a.process_name != b.process_name\n",
    "JOIN sysmon_events c\n",
    "    ON b.process_guid = c.process_guid\n",
    "    AND c.event_id = 13\n",
    "    AND c.process_guid = a.process_target_guid\n",
    "    AND c.process_name = a.process_target_name \n",
    "    AND (substring_index(c.registry_key_path, '\\\\\\\\', -1)) = b.process_name\n",
    "JOIN sysmon_events d\n",
    "    ON d.process_guid = a.process_target_guid\n",
    "    AND d.event_id = 7\n",
    "    AND d.module_loaded = a.process_target_path\n",
    "    AND LOWER(d.OriginalFileName) = (substring_index(c.registry_key_path, '\\\\\\\\', -1))\n",
    "    AND d.OriginalFileName = b.OriginalFileName\n",
    "WHERE\n",
    "     b.event_id = 1\n",
    "    AND b.process_name = LOWER(b.OriginalFileName)\n",
    "    AND (NOT (b.process_name = \"rundll32.exe\" AND b.process_parent_name = \"svchost.exe\")) -- Blind spot + Assumption\n",
    "    AND (NOT (b.process_name = \"notepad.exe\" AND b.process_parent_name = \"explorer.exe\")) -- Blind spot + Assumption\n",
    "    AND (NOT (b.process_name = \"devenv.exe\" AND b.process_parent_name = \"explorer.exe\")) -- Blind spot + Assumption\n",
    "    AND (NOT (b.process_name = \"cmd.exe\" AND b.process_parent_name = \"explorer.exe\")) -- Blind spot + Assumption\n",
    "'''\n",
    ").show()"
   ]
  },
  {
   "cell_type": "code",
   "execution_count": null,
   "metadata": {},
   "outputs": [],
   "source": [
    "# https://github.com/secrary/InjectProc"
   ]
  }
 ],
 "metadata": {
  "kernelspec": {
   "display_name": "PySpark_Python3",
   "language": "python",
   "name": "pyspark3"
  },
  "language_info": {
   "codemirror_mode": {
    "name": "ipython",
    "version": 3
   },
   "file_extension": ".py",
   "mimetype": "text/x-python",
   "name": "python",
   "nbconvert_exporter": "python",
   "pygments_lexer": "ipython3",
   "version": "3.7.3"
  }
 },
 "nbformat": 4,
 "nbformat_minor": 4
}
