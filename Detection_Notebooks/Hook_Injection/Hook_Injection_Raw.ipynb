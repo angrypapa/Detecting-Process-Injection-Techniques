{
 "cells": [
  {
   "cell_type": "code",
   "execution_count": 1,
   "metadata": {},
   "outputs": [],
   "source": [
    "from openhunt.logparser import winlogbeat\n",
    "from pyspark.sql import SparkSession\n",
    "from pyspark.sql.functions import *"
   ]
  },
  {
   "cell_type": "code",
   "execution_count": 2,
   "metadata": {},
   "outputs": [],
   "source": [
    "win = winlogbeat()\n",
    "spark = SparkSession.builder.appName(\"Process\").config(\"spark.sql.caseSensitive\", \"True\").getOrCreate()"
   ]
  },
  {
   "cell_type": "code",
   "execution_count": 3,
   "metadata": {},
   "outputs": [
    {
     "name": "stdout",
     "output_type": "stream",
     "text": [
      "[+] Processing a Spark DataFrame..\n",
      "[+] Reading Mordor file..\n",
      "[+] Processing Data from Winlogbeat version 7..\n",
      "[+] DataFrame Returned !\n"
     ]
    }
   ],
   "source": [
    "hook_injection = win.extract_nested_fields(\"hook_injection_2020-01-13170701.json\",spark)"
   ]
  },
  {
   "cell_type": "code",
   "execution_count": 4,
   "metadata": {},
   "outputs": [],
   "source": [
    "hook_injection.createOrReplaceTempView(\"hook_injection\")"
   ]
  },
  {
   "cell_type": "code",
   "execution_count": 5,
   "metadata": {},
   "outputs": [
    {
     "name": "stdout",
     "output_type": "stream",
     "text": [
      "+------------------+-----------+--------------------------------------+-------------------------------+-------+--------------+\n",
      "|computer_name     |User       |ParentImage                           |TargetImage                    |LogonId|granted_access|\n",
      "+------------------+-----------+--------------------------------------+-------------------------------+-------+--------------+\n",
      "|win10.marvel.local|MARVEL\\thor|C:\\Users\\thor\\Downloads\\InjectProc.exe|C:\\Windows\\System32\\notepad.exe|0xdcff8|1fffff        |\n",
      "+------------------+-----------+--------------------------------------+-------------------------------+-------+--------------+\n",
      "\n"
     ]
    }
   ],
   "source": [
    "Hook_Injection = spark.sql(\n",
    "'''\n",
    "SELECT \n",
    "    b.computer_name, \n",
    "    b.User,\n",
    "    b.ParentImage,\n",
    "    d.TargetImage,\n",
    "    b.LogonId,\n",
    "    ltrim('0x', d.GrantedAccess) as granted_access\n",
    "FROM hook_injection b  \n",
    "JOIN hook_injection d\n",
    "    ON b.ProcessGuid = d.TargetProcessGUID\n",
    "    AND d.channel = \"Microsoft-Windows-Sysmon/Operational\"\n",
    "    AND d.event_id = 10\n",
    "    AND b.ParentProcessGuid = d.SourceProcessGUID\n",
    "    AND b.Image = d.TargetImage\n",
    "JOIN hook_injection e\n",
    "    ON e.ProcessGuid = b.ParentProcessGuid\n",
    "    AND e.channel = \"Microsoft-Windows-Sysmon/Operational\"\n",
    "    AND e.event_id = 5\n",
    "    AND e.Image = d.SourceImage\n",
    "    AND b.ParentImage = e.Image\n",
    "JOIN hook_injection f\n",
    "    ON f.ProcessGuid = b.ParentProcessGuid\n",
    "    AND f.channel = \"Microsoft-Windows-Sysmon/Operational\"\n",
    "    AND f.event_id = 7\n",
    "    AND f.Image = b.ParentImage\n",
    "    AND f.Image = f.ImageLoaded\n",
    "WHERE b.channel = \"Microsoft-Windows-Sysmon/Operational\"\n",
    "    AND b.event_id = 1\n",
    "'''\n",
    ").show(1,False)"
   ]
  }
 ],
 "metadata": {
  "kernelspec": {
   "display_name": "PySpark_Python3",
   "language": "python",
   "name": "pyspark3"
  },
  "language_info": {
   "codemirror_mode": {
    "name": "ipython",
    "version": 3
   },
   "file_extension": ".py",
   "mimetype": "text/x-python",
   "name": "python",
   "nbconvert_exporter": "python",
   "pygments_lexer": "ipython3",
   "version": "3.7.3"
  }
 },
 "nbformat": 4,
 "nbformat_minor": 4
}
