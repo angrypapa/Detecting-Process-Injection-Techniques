{
 "cells": [
  {
   "cell_type": "code",
   "execution_count": 1,
   "metadata": {},
   "outputs": [],
   "source": [
    "from openhunt.logparser import winlogbeat\n",
    "from pyspark.sql import SparkSession"
   ]
  },
  {
   "cell_type": "code",
   "execution_count": 2,
   "metadata": {},
   "outputs": [
    {
     "name": "stdout",
     "output_type": "stream",
     "text": [
      "<pyspark.sql.session.SparkSession object at 0x7ff811b3a390>\n"
     ]
    }
   ],
   "source": [
    "win = winlogbeat()\n",
    "spark = SparkSession.builder.appName(\"Dataset\").config(\"spark.sql.caseSensitive\", \"True\").getOrCreate()\n",
    "print(spark)"
   ]
  },
  {
   "cell_type": "code",
   "execution_count": 3,
   "metadata": {},
   "outputs": [
    {
     "name": "stdout",
     "output_type": "stream",
     "text": [
      "[+] Processing a Spark DataFrame..\n",
      "[+] Reading Mordor file..\n",
      "[+] Processing Data from Winlogbeat version 7..\n",
      "[+] DataFrame Returned !\n"
     ]
    }
   ],
   "source": [
    "dataset = win.extract_nested_fields(\"process_reimaging_2019-09-12174205.json\",spark)"
   ]
  },
  {
   "cell_type": "code",
   "execution_count": 4,
   "metadata": {},
   "outputs": [],
   "source": [
    "dataset.createOrReplaceTempView(\"processreimaging\")"
   ]
  },
  {
   "cell_type": "code",
   "execution_count": 5,
   "metadata": {},
   "outputs": [
    {
     "name": "stdout",
     "output_type": "stream",
     "text": [
      "+---------------+----------------+-------+---------+------------------------------------------------------------------------------+\n",
      "|computer_name  |OriginalFileName|LogonId|ProcessId|TargetFilename                                                                |\n",
      "+---------------+----------------+-------+---------+------------------------------------------------------------------------------+\n",
      "|it001.shire.com|svchost.exe     |0xa5b33|8632     |C:\\Users\\pgustavo\\Desktop\\CSProcessReimagingPOC\\bin\\Debug\\executing\\phase1.exe|\n",
      "|it001.shire.com|svchost.exe     |0xa5b33|8632     |C:\\Users\\pgustavo\\Desktop\\CSProcessReimagingPOC\\bin\\Debug\\executing\\phase1.exe|\n",
      "+---------------+----------------+-------+---------+------------------------------------------------------------------------------+\n",
      "\n"
     ]
    }
   ],
   "source": [
    "processreimaging = spark.sql(\n",
    "'''\n",
    "SELECT \n",
    "    a.computer_name,\n",
    "    a.OriginalFileName,\n",
    "    a.LogonId,\n",
    "    b.ProcessId,\n",
    "    c.TargetFilename\n",
    "FROM processreimaging a\n",
    "JOIN processreimaging b\n",
    "    ON a.ProcessGuid = b.ProcessGuid\n",
    "    AND b.channel = \"Microsoft-Windows-Sysmon/Operational\"\n",
    "    AND b.event_id = 7\n",
    "    AND a.OriginalFileName = b.OriginalFileName\n",
    "    AND a.Image = b.ImageLoaded\n",
    "JOIN processreimaging c\n",
    "    ON a.ParentProcessGuid = c.ProcessGuid\n",
    "    AND c.channel = \"Microsoft-Windows-Sysmon/Operational\"\n",
    "    AND c.event_id = 11\n",
    "    AND a.Image = c.TargetFilename \n",
    "WHERE\n",
    "    a.channel = \"Microsoft-Windows-Sysmon/Operational\"\n",
    "    AND a.event_id = 1\n",
    "    AND a.IntegrityLevel = \"High\"\n",
    "    AND LOWER(a.OriginalFileName) != LOWER(substring_index(a.Image, '\\\\\\\\', -1))\n",
    "'''\n",
    ").show(100,False)"
   ]
  },
  {
   "cell_type": "code",
   "execution_count": null,
   "metadata": {},
   "outputs": [],
   "source": []
  }
 ],
 "metadata": {
  "kernelspec": {
   "display_name": "PySpark_Python3",
   "language": "python",
   "name": "pyspark3"
  },
  "language_info": {
   "codemirror_mode": {
    "name": "ipython",
    "version": 3
   },
   "file_extension": ".py",
   "mimetype": "text/x-python",
   "name": "python",
   "nbconvert_exporter": "python",
   "pygments_lexer": "ipython3",
   "version": "3.7.3"
  }
 },
 "nbformat": 4,
 "nbformat_minor": 4
}
