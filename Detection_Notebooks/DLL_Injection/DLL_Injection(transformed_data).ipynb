{
 "cells": [
  {
   "cell_type": "code",
   "execution_count": 20,
   "metadata": {},
   "outputs": [],
   "source": [
    "from pyspark.sql import SparkSession"
   ]
  },
  {
   "cell_type": "code",
   "execution_count": 21,
   "metadata": {},
   "outputs": [],
   "source": [
    "spark = SparkSession.builder \\\n",
    "    .appName(\"HELK Reader\") \\\n",
    "    .master(\"spark://helk-spark-master:7077\") \\\n",
    "    .enableHiveSupport() \\\n",
    "    .getOrCreate()"
   ]
  },
  {
   "cell_type": "code",
   "execution_count": 22,
   "metadata": {},
   "outputs": [],
   "source": [
    "es_reader = (spark.read\n",
    "    .format(\"org.elasticsearch.spark.sql\")\n",
    "    .option(\"inferSchema\", \"true\")\n",
    "    .option(\"es.read.field.as.array.include\", \"tags\")\n",
    "    .option(\"es.nodes\",\"helk-elasticsearch:9200\")\n",
    "    .option(\"es.net.http.auth.user\",\"elastic\")\n",
    ")"
   ]
  },
  {
   "cell_type": "code",
   "execution_count": 23,
   "metadata": {},
   "outputs": [],
   "source": [
    "sysmon_df = es_reader.load(\"logs-endpoint-winevent-sysmon-*/\")"
   ]
  },
  {
   "cell_type": "code",
   "execution_count": 24,
   "metadata": {},
   "outputs": [],
   "source": [
    "sysmon_df.createOrReplaceTempView(\"sysmon_events\")"
   ]
  },
  {
   "cell_type": "code",
   "execution_count": 28,
   "metadata": {},
   "outputs": [
    {
     "name": "stdout",
     "output_type": "stream",
     "text": [
      "+------------------+--------------+----------------------+----------+-------------------+-------------+\n",
      "|host_name         |process_name  |process_granted_access|process_id|process_target_name|thread_new_id|\n",
      "+------------------+--------------+----------------------+----------+-------------------+-------------+\n",
      "|hr001.shire.com   |powershell.exe|2047999               |5452      |notepad.exe        |7940         |\n",
      "|win10.marvel.local|injectdll.exe |2097151               |9028      |notepad.exe        |2216         |\n",
      "|win10.marvel.local|injectdll.exe |2097151               |8220      |notepad.exe        |7524         |\n",
      "|win10.marvel.local|injectdll.exe |2097151               |9204      |notepad.exe        |7972         |\n",
      "|win10.marvel.local|injectdll.exe |2097151               |6440      |notepad.exe        |8492         |\n",
      "|win10.marvel.local|injectdll.exe |2097151               |868       |notepad.exe        |8580         |\n",
      "|win10.marvel.local|injectdll.exe |2097151               |2556      |notepad.exe        |3004         |\n",
      "|win10.marvel.local|injectdll.exe |2097151               |7240      |notepad.exe        |6260         |\n",
      "|win10.marvel.local|injectdll.exe |2097151               |8260      |notepad.exe        |8852         |\n",
      "+------------------+--------------+----------------------+----------+-------------------+-------------+\n",
      "\n"
     ]
    }
   ],
   "source": [
    "DLL_Injection_EID_8_10 = spark.sql(\n",
    "'''\n",
    "SELECT \n",
    "    a.host_name,\n",
    "    a.process_name,\n",
    "    a.process_granted_access,\n",
    "    a.process_id, \n",
    "    a.process_target_name,\n",
    "    c.thread_new_id\n",
    "FROM sysmon_events c\n",
    "JOIN sysmon_events a\n",
    "    ON a.process_guid = c.process_guid\n",
    "    AND a.event_id = 10\n",
    "    AND (a.process_granted_access & 40) == 40 -- 40 is decimal for 0x0028. The minimal privileges you need to access process handle\n",
    "WHERE\n",
    "    c.event_id = 8\n",
    "    AND c.thread_start_function = \"LoadLibraryA\" OR c.thread_start_function = \"LoadLibraryW\"\n",
    "'''\n",
    ").show(100,False)"
   ]
  },
  {
   "cell_type": "code",
   "execution_count": null,
   "metadata": {},
   "outputs": [],
   "source": []
  }
 ],
 "metadata": {
  "kernelspec": {
   "display_name": "PySpark_Python3",
   "language": "python",
   "name": "pyspark3"
  },
  "language_info": {
   "codemirror_mode": {
    "name": "ipython",
    "version": 3
   },
   "file_extension": ".py",
   "mimetype": "text/x-python",
   "name": "python",
   "nbconvert_exporter": "python",
   "pygments_lexer": "ipython3",
   "version": "3.7.3"
  }
 },
 "nbformat": 4,
 "nbformat_minor": 4
}
