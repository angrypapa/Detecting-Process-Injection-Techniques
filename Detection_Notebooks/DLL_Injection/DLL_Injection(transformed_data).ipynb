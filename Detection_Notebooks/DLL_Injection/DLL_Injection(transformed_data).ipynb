{
 "cells": [
  {
   "cell_type": "code",
   "execution_count": 1,
   "metadata": {},
   "outputs": [],
   "source": [
    "from pyspark.sql import SparkSession"
   ]
  },
  {
   "cell_type": "code",
   "execution_count": 2,
   "metadata": {},
   "outputs": [],
   "source": [
    "spark = SparkSession.builder \\\n",
    "    .appName(\"HELK Reader\") \\\n",
    "    .master(\"spark://helk-spark-master:7077\") \\\n",
    "    .enableHiveSupport() \\\n",
    "    .getOrCreate()"
   ]
  },
  {
   "cell_type": "code",
   "execution_count": 3,
   "metadata": {},
   "outputs": [],
   "source": [
    "es_reader = (spark.read\n",
    "    .format(\"org.elasticsearch.spark.sql\")\n",
    "    .option(\"inferSchema\", \"true\")\n",
    "    .option(\"es.read.field.as.array.include\", \"tags\")\n",
    "    .option(\"es.nodes\",\"helk-elasticsearch:9200\")\n",
    "    .option(\"es.net.http.auth.user\",\"elastic\")\n",
    ")"
   ]
  },
  {
   "cell_type": "code",
   "execution_count": 4,
   "metadata": {},
   "outputs": [],
   "source": [
    "sysmon_df = es_reader.load(\"logs-endpoint-winevent-sysmon-*/\")"
   ]
  },
  {
   "cell_type": "code",
   "execution_count": 5,
   "metadata": {},
   "outputs": [],
   "source": [
    "sysmon_df.createOrReplaceTempView(\"sysmon_events\")"
   ]
  },
  {
   "cell_type": "code",
   "execution_count": 49,
   "metadata": {},
   "outputs": [
    {
     "name": "stdout",
     "output_type": "stream",
     "text": [
      "+--------------------------------------------------------------------------------------------------------------------------+----------------------+------------+----------+----------+\n",
      "|module_loaded                                                                                                             |process_granted_access|process_name|process_id|process_id|\n",
      "+--------------------------------------------------------------------------------------------------------------------------+----------------------+------------+----------+----------+\n",
      "|c:\\windows\\system32\\ole32.dll                                                                                             |2047999               |notepad.exe |5452      |3124      |\n",
      "|c:\\windows\\system32\\mscoree.dll                                                                                           |2047999               |notepad.exe |5452      |3124      |\n",
      "|c:\\windows\\microsoft.net\\framework64\\v4.0.30319\\mscoreei.dll                                                              |2047999               |notepad.exe |5452      |3124      |\n",
      "|c:\\windows\\system32\\rsaenh.dll                                                                                            |2047999               |notepad.exe |5452      |3124      |\n",
      "|c:\\windows\\system32\\ws2_32.dll                                                                                            |2047999               |notepad.exe |5452      |3124      |\n",
      "|c:\\windows\\system32\\launcher.dll                                                                                          |2047999               |notepad.exe |5452      |3124      |\n",
      "|c:\\windows\\system32\\version.dll                                                                                           |2047999               |notepad.exe |5452      |3124      |\n",
      "|c:\\windows\\system32\\secur32.dll                                                                                           |2047999               |notepad.exe |5452      |3124      |\n",
      "|c:\\windows\\system32\\sspicli.dll                                                                                           |2047999               |notepad.exe |5452      |3124      |\n",
      "|c:\\windows\\microsoft.net\\framework64\\v2.0.50727\\mscorwks.dll                                                              |2047999               |notepad.exe |5452      |3124      |\n",
      "|c:\\windows\\winsxs\\amd64_microsoft.vc80.crt_1fc8b3b9a1e18e3b_8.0.50727.9554_none_88e038cb2fae7c50\\msvcr80.dll              |2047999               |notepad.exe |5452      |3124      |\n",
      "|c:\\windows\\assembly\\nativeimages_v2.0.50727_64\\mscorlib\\659c6efaf7cdb7de2c1a38fbf3dd3a23\\mscorlib.ni.dll                  |2047999               |notepad.exe |5452      |3124      |\n",
      "|c:\\windows\\microsoft.net\\framework64\\v2.0.50727\\mscorjit.dll                                                              |2047999               |notepad.exe |5452      |3124      |\n",
      "|c:\\windows\\assembly\\nativeimages_v2.0.50727_64\\system\\f1616ddd48b97000149e98aa39979683\\system.ni.dll                      |2047999               |notepad.exe |5452      |3124      |\n",
      "|c:\\windows\\assembly\\nativeimages_v2.0.50727_64\\system.xml\\826e7cbee00958208d98ab5e004a84a5\\system.xml.ni.dll              |2047999               |notepad.exe |5452      |3124      |\n",
      "|c:\\windows\\microsoft.net\\framework64\\v2.0.50727\\culture.dll                                                               |2047999               |notepad.exe |5452      |3124      |\n",
      "|c:\\windows\\assembly\\nativeimages_v2.0.50727_64\\system.management\\bd12f75f8e1ed443576cc08ae6f2c441\\system.management.ni.dll|2047999               |notepad.exe |5452      |3124      |\n",
      "|c:\\windows\\assembly\\nativeimages_v2.0.50727_64\\system.data\\7b444507dc9b1fa3f90f0892a650e856\\system.data.ni.dll            |2047999               |notepad.exe |5452      |3124      |\n",
      "|c:\\windows\\assembly\\gac_64\\system.data\\2.0.0.0__b77a5c561934e089\\system.data.dll                                          |2047999               |notepad.exe |5452      |3124      |\n",
      "|c:\\windows\\assembly\\gac_64\\system.transactions\\2.0.0.0__b77a5c561934e089\\system.transactions.dll                          |2047999               |notepad.exe |5452      |3124      |\n",
      "|c:\\windows\\assembly\\gac_64\\system.transactions\\2.0.0.0__b77a5c561934e089\\system.transactions.dll                          |2047999               |notepad.exe |5452      |3124      |\n",
      "|c:\\windows\\system32\\shfolder.dll                                                                                          |2047999               |notepad.exe |5452      |3124      |\n",
      "+--------------------------------------------------------------------------------------------------------------------------+----------------------+------------+----------+----------+\n",
      "\n"
     ]
    }
   ],
   "source": [
    "DLL_Injection = spark.sql(\n",
    "'''\n",
    "SELECT \n",
    "    b.module_loaded,\n",
    "    a.process_granted_access,\n",
    "    b.process_name,\n",
    "    a.process_id,\n",
    "    b.process_id\n",
    "FROM sysmon_events b\n",
    "JOIN sysmon_events a\n",
    "    ON a.process_target_guid = b.process_guid\n",
    "    AND a.event_id = 10\n",
    "    AND (a.process_granted_access & 40) == 40 -- 40 is decimal for 0x0028. The minimal privileges you need to access process handle\n",
    "    AND b.process_name = a.process_target_name\n",
    "JOIN sysmon_events c\n",
    "    ON b.process_name = c.process_target_name\n",
    "    AND c.event_id = 8\n",
    "    AND c.thread_start_function = \"LoadLibraryA\"\n",
    "WHERE\n",
    "     b.event_id = 7\n",
    "'''\n",
    ").show(100,False)"
   ]
  },
  {
   "cell_type": "code",
   "execution_count": 20,
   "metadata": {},
   "outputs": [
    {
     "ename": "SyntaxError",
     "evalue": "invalid syntax (<ipython-input-20-29f0fe263280>, line 1)",
     "output_type": "error",
     "traceback": [
      "\u001b[0;36m  File \u001b[0;32m\"<ipython-input-20-29f0fe263280>\"\u001b[0;36m, line \u001b[0;32m1\u001b[0m\n\u001b[0;31m    AND (process_granted_access & 5184) == 5184 -- 5184 is decimal for 0x1440. The minimal privileges you need to access process handle\u001b[0m\n\u001b[0m                                                                     ^\u001b[0m\n\u001b[0;31mSyntaxError\u001b[0m\u001b[0;31m:\u001b[0m invalid syntax\n"
     ]
    }
   ],
   "source": [
    "AND (process_granted_access & 5184) == 5184 -- 5184 is decimal for 0x1440. The minimal privileges you need to access process handle\n",
    "    AND a.process_granted_access = \"2047999\""
   ]
  },
  {
   "cell_type": "code",
   "execution_count": 26,
   "metadata": {},
   "outputs": [
    {
     "data": {
      "text/plain": [
       "True"
      ]
     },
     "execution_count": 26,
     "metadata": {},
     "output_type": "execute_result"
    }
   ],
   "source": [
    "2047999 & 40 == 40"
   ]
  }
 ],
 "metadata": {
  "kernelspec": {
   "display_name": "PySpark_Python3",
   "language": "python",
   "name": "pyspark3"
  },
  "language_info": {
   "codemirror_mode": {
    "name": "ipython",
    "version": 3
   },
   "file_extension": ".py",
   "mimetype": "text/x-python",
   "name": "python",
   "nbconvert_exporter": "python",
   "pygments_lexer": "ipython3",
   "version": "3.7.3"
  }
 },
 "nbformat": 4,
 "nbformat_minor": 4
}
