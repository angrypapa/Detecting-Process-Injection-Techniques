{
 "cells": [
  {
   "cell_type": "code",
   "execution_count": 1,
   "metadata": {},
   "outputs": [],
   "source": [
    "from pyspark.sql import SparkSession"
   ]
  },
  {
   "cell_type": "code",
   "execution_count": 2,
   "metadata": {},
   "outputs": [],
   "source": [
    "spark = SparkSession.builder \\\n",
    "    .appName(\"HELK Reader\") \\\n",
    "    .master(\"spark://helk-spark-master:7077\") \\\n",
    "    .enableHiveSupport() \\\n",
    "    .getOrCreate()"
   ]
  },
  {
   "cell_type": "code",
   "execution_count": 3,
   "metadata": {},
   "outputs": [],
   "source": [
    "es_reader = (spark.read\n",
    "    .format(\"org.elasticsearch.spark.sql\")\n",
    "    .option(\"inferSchema\", \"true\")\n",
    "    .option(\"es.read.field.as.array.include\", \"tags\")\n",
    "    .option(\"es.nodes\",\"helk-elasticsearch:9200\")\n",
    "    .option(\"es.net.http.auth.user\",\"elastic\")\n",
    ")"
   ]
  },
  {
   "cell_type": "code",
   "execution_count": 4,
   "metadata": {},
   "outputs": [],
   "source": [
    "sysmon_df = es_reader.load(\"logs-endpoint-winevent-sysmon-*/\")"
   ]
  },
  {
   "cell_type": "code",
   "execution_count": 5,
   "metadata": {},
   "outputs": [],
   "source": [
    "sysmon_df.createOrReplaceTempView(\"sysmon_events\")"
   ]
  },
  {
   "cell_type": "code",
   "execution_count": 36,
   "metadata": {},
   "outputs": [
    {
     "name": "stdout",
     "output_type": "stream",
     "text": [
      "+---------------+--------------+----------------------+----------+-------------------+-------------+\n",
      "|host_name      |process_name  |process_granted_access|process_id|process_target_name|thread_new_id|\n",
      "+---------------+--------------+----------------------+----------+-------------------+-------------+\n",
      "|hr001.shire.com|powershell.exe|2047999               |5452      |notepad.exe        |7940         |\n",
      "+---------------+--------------+----------------------+----------+-------------------+-------------+\n",
      "\n"
     ]
    }
   ],
   "source": [
    "DLL_Injection_EID_8_10 = spark.sql(\n",
    "'''\n",
    "SELECT \n",
    "    a.host_name,\n",
    "    a.process_name,\n",
    "    a.process_granted_access,\n",
    "    a.process_id, \n",
    "    a.process_target_name,\n",
    "    c.thread_new_id\n",
    "FROM sysmon_events c\n",
    "JOIN sysmon_events a\n",
    "    ON a.process_guid = c.process_guid\n",
    "    AND a.event_id = 10\n",
    "    AND (a.process_granted_access & 40) == 40 -- 40 is decimal for 0x0028. The minimal privileges you need to access process handle\n",
    "WHERE\n",
    "    c.event_id = 8\n",
    "    AND c.thread_start_function = \"LoadLibraryA\"\n",
    "'''\n",
    ").show(100,False)"
   ]
  },
  {
   "cell_type": "code",
   "execution_count": 38,
   "metadata": {},
   "outputs": [
    {
     "name": "stdout",
     "output_type": "stream",
     "text": [
      "+---------------+--------------+----------------------+----------+-------------------+-------------+\n",
      "|host_name      |process_name  |process_granted_access|process_id|process_target_name|thread_new_id|\n",
      "+---------------+--------------+----------------------+----------+-------------------+-------------+\n",
      "|hr001.shire.com|powershell.exe|2047999               |5452      |notepad.exe        |7940         |\n",
      "+---------------+--------------+----------------------+----------+-------------------+-------------+\n",
      "only showing top 1 row\n",
      "\n"
     ]
    }
   ],
   "source": [
    "DLL_Injection_EID_7_8_10 = spark.sql(\n",
    "'''\n",
    "SELECT \n",
    "    a.host_name,\n",
    "    a.process_name,\n",
    "    a.process_granted_access,\n",
    "    a.process_id, \n",
    "    a.process_target_name,\n",
    "    c.thread_new_id\n",
    "FROM sysmon_events b\n",
    "JOIN sysmon_events a\n",
    "    ON a.process_target_guid = b.process_guid\n",
    "    AND a.event_id = 10\n",
    "    AND (a.process_granted_access & 5184) == 5184 -- 40 is decimal for 0x0028. The minimal privileges you need to access process handle\n",
    "JOIN sysmon_events c\n",
    "    ON c.process_guid = a.process_guid\n",
    "    AND c.event_id = 8\n",
    "    AND c.thread_start_function = \"LoadLibraryA\"\n",
    "WHERE\n",
    "     b.event_id = 7\n",
    "'''\n",
    ").show(1,False)"
   ]
  },
  {
   "cell_type": "code",
   "execution_count": null,
   "metadata": {},
   "outputs": [],
   "source": []
  }
 ],
 "metadata": {
  "kernelspec": {
   "display_name": "PySpark_Python3",
   "language": "python",
   "name": "pyspark3"
  },
  "language_info": {
   "codemirror_mode": {
    "name": "ipython",
    "version": 3
   },
   "file_extension": ".py",
   "mimetype": "text/x-python",
   "name": "python",
   "nbconvert_exporter": "python",
   "pygments_lexer": "ipython3",
   "version": "3.7.3"
  }
 },
 "nbformat": 4,
 "nbformat_minor": 4
}
