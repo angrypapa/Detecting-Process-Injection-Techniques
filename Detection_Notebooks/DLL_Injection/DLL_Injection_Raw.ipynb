{
 "cells": [
  {
   "cell_type": "code",
   "execution_count": null,
   "metadata": {},
   "outputs": [],
   "source": [
    "from openhunt.logparser import winlogbeat\n",
    "from pyspark.sql import SparkSession\n",
    "from pyspark.sql.functions import *"
   ]
  },
  {
   "cell_type": "code",
   "execution_count": null,
   "metadata": {},
   "outputs": [],
   "source": [
    "win = winlogbeat()\n",
    "spark = SparkSession.builder.appName(\"Process\").config(\"spark.sql.caseSensitive\", \"True\").getOrCreate()"
   ]
  },
  {
   "cell_type": "code",
   "execution_count": null,
   "metadata": {},
   "outputs": [],
   "source": [
    "process_injection = win.extract_nested_fields(\"empire_psinject_2019-05-18200432.json\",spark)"
   ]
  },
  {
   "cell_type": "code",
   "execution_count": null,
   "metadata": {},
   "outputs": [],
   "source": [
    "DLL_Injection = spark.sql(\n",
    "'''\n",
    "SELECT \n",
    "    ltrim('0x', a.GrantedAccess) as granted_access,\n",
    "    b.ImageLoaded,\n",
    "    a.GrantedAccess,\n",
    "    b.Image,\n",
    "    a.SourceProcessId,\n",
    "    b.ProcessId\n",
    "FROM process_injection b\n",
    "JOIN process_injection a\n",
    "    ON a.TargetProcessGuid = b.ProcessGuid\n",
    "    AND a.event_id = 10\n",
    "    \n",
    "    AND b.Image = a.TargetImage\n",
    "    AND b.channel = \"Microsoft-Windows-Sysmon/Operational\"\n",
    "JOIN process_injection c\n",
    "    ON b.Image = c.TargetImage\n",
    "    AND c.event_id = 8\n",
    "    AND c.StartAddress = \"LoadLibraryA\"\n",
    "    AND b.channel = \"Microsoft-Windows-Sysmon/Operational\"\n",
    "WHERE b.channel = \"Microsoft-Windows-Sysmon/Operational\"\n",
    "    AND b.event_id = 7\n",
    "'''\n",
    ")"
   ]
  },
  {
   "cell_type": "code",
   "execution_count": null,
   "metadata": {},
   "outputs": [],
   "source": [
    "df = DLL_Injection.select(\"computer_name\", conv(DLL_Injection.granted_access, 16, 10).alias(\"granted_access\"), \"SourceImage\", \"SourceProcessGuid\", \"NewThreadId\", \"TargetProcessId\", \"TargetImage\")"
   ]
  },
  {
   "cell_type": "code",
   "execution_count": null,
   "metadata": {
    "scrolled": false
   },
   "outputs": [],
   "source": [
    "df.createOrReplaceTempView(\"df\")"
   ]
  },
  {
   "cell_type": "code",
   "execution_count": null,
   "metadata": {},
   "outputs": [],
   "source": [
    "eid_7_8_10_minimal_privileges = spark.sql(\n",
    "'''\n",
    "SELECT * FROM df WHERE ((INT(granted_access) & 40) == 40) -- 40 is decimal for 0x0028. The minimal privileges you need to access process handle\n",
    "'''\n",
    ").show(1,False)"
   ]
  }
 ],
 "metadata": {
  "kernelspec": {
   "display_name": "PySpark_Python3",
   "language": "python",
   "name": "pyspark3"
  },
  "language_info": {
   "codemirror_mode": {
    "name": "ipython",
    "version": 3
   },
   "file_extension": ".py",
   "mimetype": "text/x-python",
   "name": "python",
   "nbconvert_exporter": "python",
   "pygments_lexer": "ipython3",
   "version": "3.7.6"
  }
 },
 "nbformat": 4,
 "nbformat_minor": 4
}
