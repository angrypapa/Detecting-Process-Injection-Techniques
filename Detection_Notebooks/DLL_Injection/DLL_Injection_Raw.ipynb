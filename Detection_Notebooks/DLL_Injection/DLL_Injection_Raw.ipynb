{
 "cells": [
  {
   "cell_type": "code",
   "execution_count": 99,
   "metadata": {},
   "outputs": [],
   "source": [
    "from openhunt.logparser import winlogbeat\n",
    "from pyspark.sql import SparkSession\n",
    "from pyspark.sql.functions import *"
   ]
  },
  {
   "cell_type": "code",
   "execution_count": 100,
   "metadata": {},
   "outputs": [],
   "source": [
    "win = winlogbeat()\n",
    "spark = SparkSession.builder.appName(\"Process\").config(\"spark.sql.caseSensitive\", \"True\").getOrCreate()"
   ]
  },
  {
   "cell_type": "code",
   "execution_count": 101,
   "metadata": {},
   "outputs": [
    {
     "name": "stdout",
     "output_type": "stream",
     "text": [
      "[+] Processing a Spark DataFrame..\n",
      "[+] Reading Mordor file..\n",
      "[+] Processing Data from Winlogbeat version 6..\n",
      "[+] DataFrame Returned !\n"
     ]
    }
   ],
   "source": [
    "process_injection = win.extract_nested_fields(\"dll_injection_2020-01-12160439.json\",spark)"
   ]
  },
  {
   "cell_type": "code",
   "execution_count": 102,
   "metadata": {},
   "outputs": [],
   "source": [
    "process_injection.createOrReplaceTempView(\"process_injection\")"
   ]
  },
  {
   "cell_type": "code",
   "execution_count": 105,
   "metadata": {},
   "outputs": [],
   "source": [
    "DLL_Injection = spark.sql(\n",
    "'''\n",
    "SELECT \n",
    "    b.computer_name,\n",
    "    b.SourceImage,\n",
    "    ltrim('0x', b.GrantedAccess) as granted_access,\n",
    "    b.TargetImage,\n",
    "    b.SourceProcessId,\n",
    "    b.SourceProcessGUID,\n",
    "    c.NewThreadId,\n",
    "    b.TargetProcessId,\n",
    "    b.TargetImage,\n",
    "    c.StartFunction\n",
    "FROM process_injection c\n",
    "JOIN process_injection b\n",
    "    ON c.SourceProcessGuid = b.SourceProcessGUID\n",
    "    AND b.channel = \"Microsoft-Windows-Sysmon/Operational\"\n",
    "    AND b.event_id = 10\n",
    "WHERE c.channel = \"Microsoft-Windows-Sysmon/Operational\"\n",
    "    AND c.event_id = 8\n",
    "    AND c.StartFunction = \"LoadLibraryA\" OR c.StartFunction = \"LoadLibraryW\"\n",
    "'''\n",
    ")\n"
   ]
  },
  {
   "cell_type": "code",
   "execution_count": 106,
   "metadata": {},
   "outputs": [],
   "source": [
    "df = DLL_Injection.select(\"computer_name\", conv(DLL_Injection.granted_access, 16, 10).alias(\"granted_access\"), \"SourceImage\", \"SourceProcessGUID\", \"NewThreadId\", \"TargetProcessId\", \"TargetImage\")"
   ]
  },
  {
   "cell_type": "code",
   "execution_count": 107,
   "metadata": {},
   "outputs": [],
   "source": [
    "df.createOrReplaceTempView(\"df\")"
   ]
  },
  {
   "cell_type": "code",
   "execution_count": 108,
   "metadata": {},
   "outputs": [
    {
     "name": "stdout",
     "output_type": "stream",
     "text": [
      "+---------------+--------------+---------------------------------------------------------+--------------------------------------+-----------+---------------+-------------------------------+\n",
      "|computer_name  |granted_access|SourceImage                                              |SourceProcessGUID                     |NewThreadId|TargetProcessId|TargetImage                    |\n",
      "+---------------+--------------+---------------------------------------------------------+--------------------------------------+-----------+---------------+-------------------------------+\n",
      "|HR001.shire.com|2047999       |C:\\Windows\\System32\\WindowsPowerShell\\v1.0\\powershell.exe|{03ba39f5-50b2-5ce0-0000-00109995c501}|7940       |3124           |C:\\Windows\\system32\\notepad.exe|\n",
      "+---------------+--------------+---------------------------------------------------------+--------------------------------------+-----------+---------------+-------------------------------+\n",
      "\n"
     ]
    }
   ],
   "source": [
    "eid_7_8_10_minimal_privileges = spark.sql(\n",
    "'''\n",
    "SELECT * FROM df WHERE ((INT(granted_access) & 40) == 40) -- 40 is decimal for 0x0028. The minimal privileges you need to access process handle\n",
    "'''\n",
    ").show(1,False)"
   ]
  },
  {
   "cell_type": "code",
   "execution_count": null,
   "metadata": {},
   "outputs": [],
   "source": []
  }
 ],
 "metadata": {
  "kernelspec": {
   "display_name": "PySpark_Python3",
   "language": "python",
   "name": "pyspark3"
  },
  "language_info": {
   "codemirror_mode": {
    "name": "ipython",
    "version": 3
   },
   "file_extension": ".py",
   "mimetype": "text/x-python",
   "name": "python",
   "nbconvert_exporter": "python",
   "pygments_lexer": "ipython3",
   "version": "3.7.3"
  }
 },
 "nbformat": 4,
 "nbformat_minor": 4
}
