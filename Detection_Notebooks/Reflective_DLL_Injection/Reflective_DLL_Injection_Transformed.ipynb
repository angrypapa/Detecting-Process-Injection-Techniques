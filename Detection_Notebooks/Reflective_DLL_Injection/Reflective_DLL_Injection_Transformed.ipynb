{
 "cells": [
  {
   "cell_type": "code",
   "execution_count": 2,
   "metadata": {},
   "outputs": [],
   "source": [
    "from pyspark.sql import SparkSession"
   ]
  },
  {
   "cell_type": "code",
   "execution_count": 3,
   "metadata": {},
   "outputs": [],
   "source": [
    "spark = SparkSession.builder \\\n",
    "    .appName(\"HELK Reader\") \\\n",
    "    .master(\"spark://helk-spark-master:7077\") \\\n",
    "    .enableHiveSupport() \\\n",
    "    .getOrCreate()"
   ]
  },
  {
   "cell_type": "code",
   "execution_count": 4,
   "metadata": {},
   "outputs": [],
   "source": [
    "es_reader = (spark.read\n",
    "    .format(\"org.elasticsearch.spark.sql\")\n",
    "    .option(\"inferSchema\", \"true\")\n",
    "    .option(\"es.read.field.as.array.include\", \"tags\")\n",
    "    .option(\"es.nodes\",\"helk-elasticsearch:9200\")\n",
    "    .option(\"es.net.http.auth.user\",\"elastic\")\n",
    ")"
   ]
  },
  {
   "cell_type": "code",
   "execution_count": 5,
   "metadata": {},
   "outputs": [],
   "source": [
    "sysmon_df = es_reader.load(\"logs-endpoint-winevent-sysmon-*/\")"
   ]
  },
  {
   "cell_type": "code",
   "execution_count": 6,
   "metadata": {},
   "outputs": [],
   "source": [
    "sysmon_df.createOrReplaceTempView(\"sysmon_events\")"
   ]
  },
  {
   "cell_type": "code",
   "execution_count": 18,
   "metadata": {},
   "outputs": [
    {
     "name": "stdout",
     "output_type": "stream",
     "text": [
      "+---------------------------------------------------------+-------------------+-----------------+-------------+----------+----------------------+\n",
      "|process_path                                             |process_target_name|process_target_id|thread_new_id|process_id|process_granted_access|\n",
      "+---------------------------------------------------------+-------------------+-----------------+-------------+----------+----------------------+\n",
      "|c:\\windows\\system32\\windowspowershell\\v1.0\\powershell.exe|notepad.exe        |7924             |9180         |5452      |2047999               |\n",
      "+---------------------------------------------------------+-------------------+-----------------+-------------+----------+----------------------+\n",
      "only showing top 1 row\n",
      "\n"
     ]
    }
   ],
   "source": [
    "ReflectiveDLL_ProcessInjection = spark.sql(\n",
    "'''\n",
    "SELECT \n",
    "    b.process_path,\n",
    "    b.process_target_name,\n",
    "    b.process_target_id,\n",
    "    b.thread_new_id,\n",
    "    a.process_id,\n",
    "    a.process_granted_access\n",
    "FROM sysmon_events b\n",
    "INNER JOIN(\n",
    "SELECT event_id, process_granted_access, process_guid, process_id\n",
    "FROM sysmon_events \n",
    "WHERE event_id = 10\n",
    "AND (process_granted_access & 5178) == 5178) -- 5178 is decimal for 0x143A. The minimal privileges you need to access process handle\n",
    ") a\n",
    "ON a.process_guid = b.process_guid\n",
    "WHERE b.event_id = 8\n",
    "'''\n",
    ").show(1,False)\n"
   ]
  },
  {
   "cell_type": "code",
   "execution_count": null,
   "metadata": {},
   "outputs": [],
   "source": []
  }
 ],
 "metadata": {
  "kernelspec": {
   "display_name": "PySpark_Python3",
   "language": "python",
   "name": "pyspark3"
  },
  "language_info": {
   "codemirror_mode": {
    "name": "ipython",
    "version": 3
   },
   "file_extension": ".py",
   "mimetype": "text/x-python",
   "name": "python",
   "nbconvert_exporter": "python",
   "pygments_lexer": "ipython3",
   "version": "3.7.3"
  }
 },
 "nbformat": 4,
 "nbformat_minor": 4
}
