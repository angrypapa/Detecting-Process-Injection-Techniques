{
 "cells": [
  {
   "cell_type": "code",
   "execution_count": 14,
   "metadata": {},
   "outputs": [],
   "source": [
    "from pyspark.sql import SparkSession"
   ]
  },
  {
   "cell_type": "code",
   "execution_count": 15,
   "metadata": {},
   "outputs": [],
   "source": [
    "spark = SparkSession.builder \\\n",
    "    .appName(\"HELK Reader\") \\\n",
    "    .master(\"spark://helk-spark-master:7077\") \\\n",
    "    .enableHiveSupport() \\\n",
    "    .getOrCreate()"
   ]
  },
  {
   "cell_type": "code",
   "execution_count": 16,
   "metadata": {},
   "outputs": [],
   "source": [
    "es_reader = (spark.read\n",
    "    .format(\"org.elasticsearch.spark.sql\")\n",
    "    .option(\"inferSchema\", \"true\")\n",
    "    .option(\"es.read.field.as.array.include\", \"tags\")\n",
    "    .option(\"es.nodes\",\"helk-elasticsearch:9200\")\n",
    "    .option(\"es.net.http.auth.user\",\"elastic\")\n",
    ")"
   ]
  },
  {
   "cell_type": "code",
   "execution_count": 17,
   "metadata": {},
   "outputs": [],
   "source": [
    "sysmon_df = es_reader.load(\"logs-endpoint-winevent-sysmon-*/\")"
   ]
  },
  {
   "cell_type": "code",
   "execution_count": 18,
   "metadata": {},
   "outputs": [],
   "source": [
    "sysmon_df.createOrReplaceTempView(\"sysmon_events\")"
   ]
  },
  {
   "cell_type": "code",
   "execution_count": 28,
   "metadata": {},
   "outputs": [
    {
     "name": "stdout",
     "output_type": "stream",
     "text": [
      "+---------------------------------------------------------+-------------------+-----------------+-------------+----------+----------------------+\n",
      "|process_path                                             |process_target_name|process_target_id|thread_new_id|process_id|process_granted_access|\n",
      "+---------------------------------------------------------+-------------------+-----------------+-------------+----------+----------------------+\n",
      "|c:\\windows\\system32\\windowspowershell\\v1.0\\powershell.exe|notepad.exe        |3124             |7940         |5452      |2047999               |\n",
      "|c:\\windows\\system32\\windowspowershell\\v1.0\\powershell.exe|notepad.exe        |3124             |7940         |5452      |2047999               |\n",
      "|c:\\windows\\system32\\windowspowershell\\v1.0\\powershell.exe|notepad.exe        |7924             |7388         |5452      |2047999               |\n",
      "|c:\\windows\\system32\\windowspowershell\\v1.0\\powershell.exe|notepad.exe        |7924             |7388         |5452      |2047999               |\n",
      "|c:\\windows\\system32\\windowspowershell\\v1.0\\powershell.exe|notepad.exe        |7924             |5376         |5452      |2047999               |\n",
      "|c:\\windows\\system32\\windowspowershell\\v1.0\\powershell.exe|notepad.exe        |7924             |5376         |5452      |2047999               |\n",
      "|c:\\windows\\system32\\windowspowershell\\v1.0\\powershell.exe|notepad.exe        |7924             |7640         |5452      |2047999               |\n",
      "|c:\\windows\\system32\\windowspowershell\\v1.0\\powershell.exe|notepad.exe        |7924             |7640         |5452      |2047999               |\n",
      "|c:\\windows\\system32\\windowspowershell\\v1.0\\powershell.exe|notepad.exe        |7924             |7332         |5452      |2047999               |\n",
      "|c:\\windows\\system32\\windowspowershell\\v1.0\\powershell.exe|notepad.exe        |7924             |7332         |5452      |2047999               |\n",
      "+---------------------------------------------------------+-------------------+-----------------+-------------+----------+----------------------+\n",
      "only showing top 10 rows\n",
      "\n"
     ]
    }
   ],
   "source": [
    "ReflectiveDLL_ProcessInjection = spark.sql(\n",
    "'''\n",
    "SELECT \n",
    "    b.process_path,\n",
    "    b.process_target_name,\n",
    "    b.process_target_id,\n",
    "    b.thread_new_id,\n",
    "    a.process_id,\n",
    "    a.process_granted_access\n",
    "FROM sysmon_events b\n",
    "JOIN sysmon_events a\n",
    "ON a.process_guid = b.process_guid\n",
    "AND a.event_id = 10\n",
    "AND (a.process_granted_access & 5178) == 5178\n",
    "\n",
    "WHERE b.event_id = 8\n",
    "AND NOT b.process_name = \"csrss.exe\"\n",
    "'''\n",
    ").show(10,False)\n"
   ]
  },
  {
   "cell_type": "code",
   "execution_count": null,
   "metadata": {},
   "outputs": [],
   "source": []
  }
 ],
 "metadata": {
  "kernelspec": {
   "display_name": "PySpark_Python3",
   "language": "python",
   "name": "pyspark3"
  },
  "language_info": {
   "codemirror_mode": {
    "name": "ipython",
    "version": 3
   },
   "file_extension": ".py",
   "mimetype": "text/x-python",
   "name": "python",
   "nbconvert_exporter": "python",
   "pygments_lexer": "ipython3",
   "version": "3.7.3"
  }
 },
 "nbformat": 4,
 "nbformat_minor": 4
}
