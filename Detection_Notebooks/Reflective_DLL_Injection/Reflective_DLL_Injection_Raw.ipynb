{
 "cells": [
  {
   "cell_type": "code",
   "execution_count": 1,
   "metadata": {},
   "outputs": [],
   "source": [
    "from openhunt.logparser import winlogbeat\n",
    "from pyspark.sql import SparkSession\n",
    "from pyspark.sql.functions import *"
   ]
  },
  {
   "cell_type": "code",
   "execution_count": 2,
   "metadata": {},
   "outputs": [],
   "source": [
    "win = winlogbeat()\n",
    "spark = SparkSession.builder.appName(\"Process\").config(\"spark.sql.caseSensitive\", \"True\").getOrCreate()"
   ]
  },
  {
   "cell_type": "code",
   "execution_count": 3,
   "metadata": {},
   "outputs": [
    {
     "name": "stdout",
     "output_type": "stream",
     "text": [
      "[+] Processing a Spark DataFrame..\n",
      "[+] Reading Mordor file..\n",
      "[+] Processing Data from Winlogbeat version 6..\n",
      "[+] DataFrame Returned !\n"
     ]
    }
   ],
   "source": [
    "process_injection = win.extract_nested_fields(\"empire_psinject_2019-05-18200432.json\",spark)"
   ]
  },
  {
   "cell_type": "code",
   "execution_count": 4,
   "metadata": {},
   "outputs": [],
   "source": [
    "process_injection.createOrReplaceTempView(\"process_injection\")"
   ]
  },
  {
   "cell_type": "code",
   "execution_count": 5,
   "metadata": {},
   "outputs": [],
   "source": [
    "ReflectiveDLL_ProcessInjection = spark.sql(\n",
    "\n",
    "'''\n",
    "SELECT \n",
    "    b.computer_name,\n",
    "    ltrim('0x', b.GrantedAccess) as granted_access,\n",
    "    a.SourceImage,\n",
    "    a.SourceProcessGuid,\n",
    "    a.NewThreadId, \n",
    "    a.TargetProcessId,\n",
    "    a.TargetImage\n",
    "FROM process_injection a\n",
    "JOIN process_injection b \n",
    "    ON a.SourceProcessGuid = b.SourceProcessGUID  \n",
    "    AND b.channel = \"Microsoft-Windows-Sysmon/Operational\"\n",
    "    AND b.event_id = 10\n",
    "    AND a.TargetProcessGuid = b.TargetProcessGUID\n",
    "WHERE a.channel = \"Microsoft-Windows-Sysmon/Operational\"\n",
    "    AND a.event_id = 8\n",
    "'''\n",
    ")"
   ]
  },
  {
   "cell_type": "code",
   "execution_count": 6,
   "metadata": {},
   "outputs": [],
   "source": [
    "df = ReflectiveDLL_ProcessInjection.select(\"computer_name\", conv(ReflectiveDLL_ProcessInjection.granted_access, 16, 10).alias(\"granted_access\"), \"SourceImage\", \"SourceProcessGuid\", \"NewThreadId\", \"TargetProcessId\", \"TargetImage\")"
   ]
  },
  {
   "cell_type": "code",
   "execution_count": 7,
   "metadata": {},
   "outputs": [],
   "source": [
    "df.createOrReplaceTempView(\"df\")"
   ]
  },
  {
   "cell_type": "code",
   "execution_count": 8,
   "metadata": {},
   "outputs": [
    {
     "name": "stdout",
     "output_type": "stream",
     "text": [
      "+---------------+--------------+---------------------------------------------------------+--------------------------------------+-----------+---------------+-------------------------------+\n",
      "|computer_name  |granted_access|SourceImage                                              |SourceProcessGuid                     |NewThreadId|TargetProcessId|TargetImage                    |\n",
      "+---------------+--------------+---------------------------------------------------------+--------------------------------------+-----------+---------------+-------------------------------+\n",
      "|HR001.shire.com|2047999       |C:\\Windows\\System32\\WindowsPowerShell\\v1.0\\powershell.exe|{03ba39f5-50b2-5ce0-0000-00109995c501}|9180       |7924           |C:\\Windows\\System32\\notepad.exe|\n",
      "+---------------+--------------+---------------------------------------------------------+--------------------------------------+-----------+---------------+-------------------------------+\n",
      "only showing top 1 row\n",
      "\n"
     ]
    }
   ],
   "source": [
    "eid_8_10_minimal_privileges = spark.sql(\n",
    "'''\n",
    "SELECT * FROM df WHERE ((INT(granted_access) & 5178) == 5178) -- 5178 is decimal for 0x143A. The minimal privileges you need to access process handle\n",
    "'''\n",
    ").show(1,False)"
   ]
  },
  {
   "cell_type": "code",
   "execution_count": null,
   "metadata": {},
   "outputs": [],
   "source": []
  }
 ],
 "metadata": {
  "kernelspec": {
   "display_name": "PySpark_Python3",
   "language": "python",
   "name": "pyspark3"
  },
  "language_info": {
   "codemirror_mode": {
    "name": "ipython",
    "version": 3
   },
   "file_extension": ".py",
   "mimetype": "text/x-python",
   "name": "python",
   "nbconvert_exporter": "python",
   "pygments_lexer": "ipython3",
   "version": "3.7.3"
  }
 },
 "nbformat": 4,
 "nbformat_minor": 4
}
